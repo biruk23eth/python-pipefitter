{
 "cells": [
  {
   "cell_type": "markdown",
   "metadata": {},
   "source": [
    "### Regression Example for python pipefiiter\n",
    "\n",
    "This is an example to show how to solve regression problem by decision tree using python pipefitter. It involves grid search to do hyperparameter tuning"
   ]
  },
  {
   "cell_type": "code",
   "execution_count": 1,
   "metadata": {
    "collapsed": false
   },
   "outputs": [],
   "source": [
    "import swat\n",
    "import numpy as np\n",
    "import pandas as pd\n"
   ]
  },
  {
   "cell_type": "markdown",
   "metadata": {},
   "source": [
    "#### Generate Data\n",
    "\n",
    "Idea from Chapter 10 Boosting and Additive Trees, 'the elements of statistical learning', Trevor Hastie. Robert Tibshirani. Jerome Friedman"
   ]
  },
  {
   "cell_type": "code",
   "execution_count": 2,
   "metadata": {
    "collapsed": false
   },
   "outputs": [
    {
     "data": {
      "text/html": [
       "<div>\n",
       "<table border=\"1\" class=\"dataframe\">\n",
       "  <thead>\n",
       "    <tr style=\"text-align: right;\">\n",
       "      <th></th>\n",
       "      <th>a0</th>\n",
       "      <th>a1</th>\n",
       "      <th>a2</th>\n",
       "      <th>a3</th>\n",
       "      <th>a4</th>\n",
       "      <th>a5</th>\n",
       "      <th>a6</th>\n",
       "      <th>a7</th>\n",
       "      <th>a8</th>\n",
       "      <th>a9</th>\n",
       "      <th>...</th>\n",
       "      <th>a41</th>\n",
       "      <th>a42</th>\n",
       "      <th>a43</th>\n",
       "      <th>a44</th>\n",
       "      <th>a45</th>\n",
       "      <th>a46</th>\n",
       "      <th>a47</th>\n",
       "      <th>a48</th>\n",
       "      <th>a49</th>\n",
       "      <th>label</th>\n",
       "    </tr>\n",
       "  </thead>\n",
       "  <tbody>\n",
       "    <tr>\n",
       "      <th>0</th>\n",
       "      <td>0.662716</td>\n",
       "      <td>0.308070</td>\n",
       "      <td>0.338617</td>\n",
       "      <td>-0.351051</td>\n",
       "      <td>-1.481292</td>\n",
       "      <td>0.557367</td>\n",
       "      <td>0.966436</td>\n",
       "      <td>0.200269</td>\n",
       "      <td>-0.336749</td>\n",
       "      <td>1.288656</td>\n",
       "      <td>...</td>\n",
       "      <td>0.703076</td>\n",
       "      <td>-0.846608</td>\n",
       "      <td>1.609467</td>\n",
       "      <td>-0.038384</td>\n",
       "      <td>-1.290930</td>\n",
       "      <td>0.273557</td>\n",
       "      <td>0.280244</td>\n",
       "      <td>1.042739</td>\n",
       "      <td>1.067851</td>\n",
       "      <td>10.780648</td>\n",
       "    </tr>\n",
       "    <tr>\n",
       "      <th>1</th>\n",
       "      <td>-0.271896</td>\n",
       "      <td>0.169343</td>\n",
       "      <td>1.071508</td>\n",
       "      <td>-0.938864</td>\n",
       "      <td>1.030303</td>\n",
       "      <td>0.874336</td>\n",
       "      <td>0.319124</td>\n",
       "      <td>1.141288</td>\n",
       "      <td>1.254647</td>\n",
       "      <td>0.033753</td>\n",
       "      <td>...</td>\n",
       "      <td>0.270631</td>\n",
       "      <td>-0.406405</td>\n",
       "      <td>-1.592481</td>\n",
       "      <td>0.062499</td>\n",
       "      <td>1.977884</td>\n",
       "      <td>-0.830468</td>\n",
       "      <td>1.145762</td>\n",
       "      <td>0.691041</td>\n",
       "      <td>-0.327328</td>\n",
       "      <td>-1.121349</td>\n",
       "    </tr>\n",
       "    <tr>\n",
       "      <th>2</th>\n",
       "      <td>0.621875</td>\n",
       "      <td>1.087925</td>\n",
       "      <td>0.315371</td>\n",
       "      <td>1.258042</td>\n",
       "      <td>-1.213612</td>\n",
       "      <td>-0.890436</td>\n",
       "      <td>-3.056506</td>\n",
       "      <td>1.280023</td>\n",
       "      <td>-0.864962</td>\n",
       "      <td>0.496708</td>\n",
       "      <td>...</td>\n",
       "      <td>-0.340298</td>\n",
       "      <td>-0.483659</td>\n",
       "      <td>0.037831</td>\n",
       "      <td>-1.418239</td>\n",
       "      <td>-0.801472</td>\n",
       "      <td>0.795630</td>\n",
       "      <td>-0.308464</td>\n",
       "      <td>-0.213733</td>\n",
       "      <td>-1.141872</td>\n",
       "      <td>15.343394</td>\n",
       "    </tr>\n",
       "    <tr>\n",
       "      <th>3</th>\n",
       "      <td>0.189052</td>\n",
       "      <td>0.858708</td>\n",
       "      <td>-1.147145</td>\n",
       "      <td>-0.420938</td>\n",
       "      <td>0.829774</td>\n",
       "      <td>-1.375461</td>\n",
       "      <td>-0.407992</td>\n",
       "      <td>-1.110958</td>\n",
       "      <td>0.474658</td>\n",
       "      <td>0.285635</td>\n",
       "      <td>...</td>\n",
       "      <td>-0.148302</td>\n",
       "      <td>0.309954</td>\n",
       "      <td>-1.864935</td>\n",
       "      <td>-0.024355</td>\n",
       "      <td>-0.303272</td>\n",
       "      <td>0.774517</td>\n",
       "      <td>1.991609</td>\n",
       "      <td>0.100281</td>\n",
       "      <td>-0.300906</td>\n",
       "      <td>-1.601921</td>\n",
       "    </tr>\n",
       "    <tr>\n",
       "      <th>4</th>\n",
       "      <td>-1.801008</td>\n",
       "      <td>-1.152999</td>\n",
       "      <td>0.770565</td>\n",
       "      <td>1.706740</td>\n",
       "      <td>0.442727</td>\n",
       "      <td>0.455442</td>\n",
       "      <td>-0.286850</td>\n",
       "      <td>0.232046</td>\n",
       "      <td>-0.481169</td>\n",
       "      <td>0.128884</td>\n",
       "      <td>...</td>\n",
       "      <td>1.214340</td>\n",
       "      <td>0.031385</td>\n",
       "      <td>-1.023916</td>\n",
       "      <td>-1.498513</td>\n",
       "      <td>-0.147880</td>\n",
       "      <td>1.820930</td>\n",
       "      <td>0.056998</td>\n",
       "      <td>0.313696</td>\n",
       "      <td>1.122060</td>\n",
       "      <td>2.076204</td>\n",
       "    </tr>\n",
       "  </tbody>\n",
       "</table>\n",
       "<p>5 rows × 51 columns</p>\n",
       "</div>"
      ],
      "text/plain": [
       "         a0        a1        a2        a3        a4        a5        a6  \\\n",
       "0  0.662716  0.308070  0.338617 -0.351051 -1.481292  0.557367  0.966436   \n",
       "1 -0.271896  0.169343  1.071508 -0.938864  1.030303  0.874336  0.319124   \n",
       "2  0.621875  1.087925  0.315371  1.258042 -1.213612 -0.890436 -3.056506   \n",
       "3  0.189052  0.858708 -1.147145 -0.420938  0.829774 -1.375461 -0.407992   \n",
       "4 -1.801008 -1.152999  0.770565  1.706740  0.442727  0.455442 -0.286850   \n",
       "\n",
       "         a7        a8        a9    ...           a41       a42       a43  \\\n",
       "0  0.200269 -0.336749  1.288656    ...      0.703076 -0.846608  1.609467   \n",
       "1  1.141288  1.254647  0.033753    ...      0.270631 -0.406405 -1.592481   \n",
       "2  1.280023 -0.864962  0.496708    ...     -0.340298 -0.483659  0.037831   \n",
       "3 -1.110958  0.474658  0.285635    ...     -0.148302  0.309954 -1.864935   \n",
       "4  0.232046 -0.481169  0.128884    ...      1.214340  0.031385 -1.023916   \n",
       "\n",
       "        a44       a45       a46       a47       a48       a49      label  \n",
       "0 -0.038384 -1.290930  0.273557  0.280244  1.042739  1.067851  10.780648  \n",
       "1  0.062499  1.977884 -0.830468  1.145762  0.691041 -0.327328  -1.121349  \n",
       "2 -1.418239 -0.801472  0.795630 -0.308464 -0.213733 -1.141872  15.343394  \n",
       "3 -0.024355 -0.303272  0.774517  1.991609  0.100281 -0.300906  -1.601921  \n",
       "4 -1.498513 -0.147880  1.820930  0.056998  0.313696  1.122060   2.076204  \n",
       "\n",
       "[5 rows x 51 columns]"
      ]
     },
     "execution_count": 2,
     "metadata": {},
     "output_type": "execute_result"
    }
   ],
   "source": [
    "mu, sigma = 0, 1 # mean and standard deviation\n",
    "\n",
    "np.random.normal(mu, sigma, 10)\n",
    "\n",
    "allnumpys = list()\n",
    "for i in range(50):\n",
    "    st = np.random.normal(mu, sigma, 1000)\n",
    "    allnumpys.append(st)\n",
    "\n",
    "data = pd.DataFrame(allnumpys)\n",
    "\n",
    "data = data.transpose()\n",
    "\n",
    "data.columns=['a'+str(i) for i in range(50)]\n",
    "\n",
    "data['label']=1\n",
    "def f(x):\n",
    "    sumn=0\n",
    "    for i in range(10):\n",
    "        sumn = sumn + x['a'+str(i)]*x['a'+str(i)]+2*np.random.normal(0, 1, 1)\n",
    "    return sumn\n",
    "\n",
    "\n",
    "data['label']=data.apply(f, axis=1) \n",
    "data.head()"
   ]
  },
  {
   "cell_type": "markdown",
   "metadata": {},
   "source": [
    "## SAS Viya version"
   ]
  },
  {
   "cell_type": "markdown",
   "metadata": {},
   "source": [
    "### Create Connections and Load Data"
   ]
  },
  {
   "cell_type": "code",
   "execution_count": 3,
   "metadata": {
    "collapsed": false
   },
   "outputs": [
    {
     "name": "stdout",
     "output_type": "stream",
     "text": [
      "NOTE: Cloud Analytic Services made the uploaded file available as table TMPZ90EA2AZ in caslib CASUSER(lidong).\n",
      "NOTE: The table TMPZ90EA2AZ has been created in caslib CASUSER(lidong) from binary data uploaded to Cloud Analytic Services.\n"
     ]
    }
   ],
   "source": [
    "casconn = swat.CAS('sasserver.demo.sas.com', 5570, nworkers=1) \n",
    "casdata = casconn.upload_frame(data)"
   ]
  },
  {
   "cell_type": "markdown",
   "metadata": {},
   "source": [
    "Return first 5 rows of casdata"
   ]
  },
  {
   "cell_type": "code",
   "execution_count": 4,
   "metadata": {
    "collapsed": false
   },
   "outputs": [
    {
     "data": {
      "text/html": [
       "<div>\n",
       "<table border=\"1\" class=\"dataframe\"><caption>Selected Rows from Table TMPZ90EA2AZ</caption>\n",
       "  <thead>\n",
       "    <tr style=\"text-align: right;\">\n",
       "      <th title=\"\"></th>\n",
       "      <th title=\"a0\">a0</th>\n",
       "      <th title=\"a1\">a1</th>\n",
       "      <th title=\"a2\">a2</th>\n",
       "      <th title=\"a3\">a3</th>\n",
       "      <th title=\"a4\">a4</th>\n",
       "      <th title=\"a5\">a5</th>\n",
       "      <th title=\"a6\">a6</th>\n",
       "      <th title=\"a7\">a7</th>\n",
       "      <th title=\"a8\">a8</th>\n",
       "      <th title=\"a9\">a9</th>\n",
       "      <th title=\"...\">...</th>\n",
       "      <th title=\"a41\">a41</th>\n",
       "      <th title=\"a42\">a42</th>\n",
       "      <th title=\"a43\">a43</th>\n",
       "      <th title=\"a44\">a44</th>\n",
       "      <th title=\"a45\">a45</th>\n",
       "      <th title=\"a46\">a46</th>\n",
       "      <th title=\"a47\">a47</th>\n",
       "      <th title=\"a48\">a48</th>\n",
       "      <th title=\"a49\">a49</th>\n",
       "      <th title=\"label\">label</th>\n",
       "    </tr>\n",
       "  </thead>\n",
       "  <tbody>\n",
       "    <tr>\n",
       "      <th>0</th>\n",
       "      <td>0.662716</td>\n",
       "      <td>0.308070</td>\n",
       "      <td>0.338617</td>\n",
       "      <td>-0.351051</td>\n",
       "      <td>-1.481292</td>\n",
       "      <td>0.557367</td>\n",
       "      <td>0.966436</td>\n",
       "      <td>0.200269</td>\n",
       "      <td>-0.336749</td>\n",
       "      <td>1.288656</td>\n",
       "      <td>...</td>\n",
       "      <td>0.703076</td>\n",
       "      <td>-0.846608</td>\n",
       "      <td>1.609467</td>\n",
       "      <td>-0.038384</td>\n",
       "      <td>-1.290930</td>\n",
       "      <td>0.273557</td>\n",
       "      <td>0.280244</td>\n",
       "      <td>1.042739</td>\n",
       "      <td>1.067851</td>\n",
       "      <td>10.780648</td>\n",
       "    </tr>\n",
       "    <tr>\n",
       "      <th>1</th>\n",
       "      <td>-0.271896</td>\n",
       "      <td>0.169343</td>\n",
       "      <td>1.071508</td>\n",
       "      <td>-0.938864</td>\n",
       "      <td>1.030303</td>\n",
       "      <td>0.874336</td>\n",
       "      <td>0.319124</td>\n",
       "      <td>1.141288</td>\n",
       "      <td>1.254647</td>\n",
       "      <td>0.033753</td>\n",
       "      <td>...</td>\n",
       "      <td>0.270631</td>\n",
       "      <td>-0.406405</td>\n",
       "      <td>-1.592481</td>\n",
       "      <td>0.062499</td>\n",
       "      <td>1.977884</td>\n",
       "      <td>-0.830468</td>\n",
       "      <td>1.145762</td>\n",
       "      <td>0.691041</td>\n",
       "      <td>-0.327328</td>\n",
       "      <td>-1.121349</td>\n",
       "    </tr>\n",
       "    <tr>\n",
       "      <th>2</th>\n",
       "      <td>0.621875</td>\n",
       "      <td>1.087925</td>\n",
       "      <td>0.315371</td>\n",
       "      <td>1.258042</td>\n",
       "      <td>-1.213612</td>\n",
       "      <td>-0.890436</td>\n",
       "      <td>-3.056506</td>\n",
       "      <td>1.280023</td>\n",
       "      <td>-0.864962</td>\n",
       "      <td>0.496708</td>\n",
       "      <td>...</td>\n",
       "      <td>-0.340298</td>\n",
       "      <td>-0.483659</td>\n",
       "      <td>0.037831</td>\n",
       "      <td>-1.418239</td>\n",
       "      <td>-0.801472</td>\n",
       "      <td>0.795630</td>\n",
       "      <td>-0.308464</td>\n",
       "      <td>-0.213733</td>\n",
       "      <td>-1.141872</td>\n",
       "      <td>15.343394</td>\n",
       "    </tr>\n",
       "    <tr>\n",
       "      <th>3</th>\n",
       "      <td>0.189052</td>\n",
       "      <td>0.858708</td>\n",
       "      <td>-1.147145</td>\n",
       "      <td>-0.420938</td>\n",
       "      <td>0.829774</td>\n",
       "      <td>-1.375461</td>\n",
       "      <td>-0.407992</td>\n",
       "      <td>-1.110958</td>\n",
       "      <td>0.474658</td>\n",
       "      <td>0.285635</td>\n",
       "      <td>...</td>\n",
       "      <td>-0.148302</td>\n",
       "      <td>0.309954</td>\n",
       "      <td>-1.864935</td>\n",
       "      <td>-0.024355</td>\n",
       "      <td>-0.303272</td>\n",
       "      <td>0.774517</td>\n",
       "      <td>1.991609</td>\n",
       "      <td>0.100281</td>\n",
       "      <td>-0.300906</td>\n",
       "      <td>-1.601921</td>\n",
       "    </tr>\n",
       "    <tr>\n",
       "      <th>4</th>\n",
       "      <td>-1.801008</td>\n",
       "      <td>-1.152999</td>\n",
       "      <td>0.770565</td>\n",
       "      <td>1.706740</td>\n",
       "      <td>0.442727</td>\n",
       "      <td>0.455442</td>\n",
       "      <td>-0.286850</td>\n",
       "      <td>0.232046</td>\n",
       "      <td>-0.481169</td>\n",
       "      <td>0.128884</td>\n",
       "      <td>...</td>\n",
       "      <td>1.214340</td>\n",
       "      <td>0.031385</td>\n",
       "      <td>-1.023916</td>\n",
       "      <td>-1.498513</td>\n",
       "      <td>-0.147880</td>\n",
       "      <td>1.820930</td>\n",
       "      <td>0.056998</td>\n",
       "      <td>0.313696</td>\n",
       "      <td>1.122060</td>\n",
       "      <td>2.076204</td>\n",
       "    </tr>\n",
       "  </tbody>\n",
       "</table>\n",
       "<p>5 rows × 51 columns</p>\n",
       "</div>"
      ],
      "text/plain": [
       "Selected Rows from Table TMPZ90EA2AZ\n",
       "\n",
       "         a0        a1        a2        a3        a4        a5        a6  \\\n",
       "0  0.662716  0.308070  0.338617 -0.351051 -1.481292  0.557367  0.966436   \n",
       "1 -0.271896  0.169343  1.071508 -0.938864  1.030303  0.874336  0.319124   \n",
       "2  0.621875  1.087925  0.315371  1.258042 -1.213612 -0.890436 -3.056506   \n",
       "3  0.189052  0.858708 -1.147145 -0.420938  0.829774 -1.375461 -0.407992   \n",
       "4 -1.801008 -1.152999  0.770565  1.706740  0.442727  0.455442 -0.286850   \n",
       "\n",
       "         a7        a8        a9    ...           a41       a42       a43  \\\n",
       "0  0.200269 -0.336749  1.288656    ...      0.703076 -0.846608  1.609467   \n",
       "1  1.141288  1.254647  0.033753    ...      0.270631 -0.406405 -1.592481   \n",
       "2  1.280023 -0.864962  0.496708    ...     -0.340298 -0.483659  0.037831   \n",
       "3 -1.110958  0.474658  0.285635    ...     -0.148302  0.309954 -1.864935   \n",
       "4  0.232046 -0.481169  0.128884    ...      1.214340  0.031385 -1.023916   \n",
       "\n",
       "        a44       a45       a46       a47       a48       a49      label  \n",
       "0 -0.038384 -1.290930  0.273557  0.280244  1.042739  1.067851  10.780648  \n",
       "1  0.062499  1.977884 -0.830468  1.145762  0.691041 -0.327328  -1.121349  \n",
       "2 -1.418239 -0.801472  0.795630 -0.308464 -0.213733 -1.141872  15.343394  \n",
       "3 -0.024355 -0.303272  0.774517  1.991609  0.100281 -0.300906  -1.601921  \n",
       "4 -1.498513 -0.147880  1.820930  0.056998  0.313696  1.122060   2.076204  \n",
       "\n",
       "[5 rows x 51 columns]"
      ]
     },
     "execution_count": 4,
     "metadata": {},
     "output_type": "execute_result"
    }
   ],
   "source": [
    "casdata.head()"
   ]
  },
  {
   "cell_type": "markdown",
   "metadata": {},
   "source": [
    "show the information of the table such as create time, rows etc."
   ]
  },
  {
   "cell_type": "code",
   "execution_count": 5,
   "metadata": {
    "collapsed": false
   },
   "outputs": [
    {
     "data": {
      "text/html": [
       "<div class=\"cas-results-key\"><b>&#167; TableInfo</b></div>\n",
       "<div class=\"cas-results-body\">\n",
       "<div>\n",
       "<table border=\"1\" class=\"dataframe\">\n",
       "  <thead>\n",
       "    <tr style=\"text-align: right;\">\n",
       "      <th title=\"\"></th>\n",
       "      <th title=\"Name\">Name</th>\n",
       "      <th title=\"Rows\">Rows</th>\n",
       "      <th title=\"Columns\">Columns</th>\n",
       "      <th title=\"Encoding\">Encoding</th>\n",
       "      <th title=\"Created\">CreateTimeFormatted</th>\n",
       "      <th title=\"Last Modified\">ModTimeFormatted</th>\n",
       "      <th title=\"Character Set\">JavaCharSet</th>\n",
       "      <th title=\"CreateTime\">CreateTime</th>\n",
       "      <th title=\"ModTime\">ModTime</th>\n",
       "      <th title=\"Global\">Global</th>\n",
       "      <th title=\"Repeated\">Repeated</th>\n",
       "      <th title=\"View\">View</th>\n",
       "      <th title=\"Loaded Source\">SourceName</th>\n",
       "      <th title=\"Source Caslib\">SourceCaslib</th>\n",
       "      <th title=\"Compressed\">Compressed</th>\n",
       "      <th title=\"Table Creator\">Creator</th>\n",
       "      <th title=\"Last Table Modifier\">Modifier</th>\n",
       "    </tr>\n",
       "  </thead>\n",
       "  <tbody>\n",
       "    <tr>\n",
       "      <th>0</th>\n",
       "      <td>TMPZ90EA2AZ</td>\n",
       "      <td>1000</td>\n",
       "      <td>51</td>\n",
       "      <td>utf-8</td>\n",
       "      <td>09May2017:15:20:29</td>\n",
       "      <td>09May2017:15:20:29</td>\n",
       "      <td>UTF8</td>\n",
       "      <td>1.809962e+09</td>\n",
       "      <td>1.809962e+09</td>\n",
       "      <td>0</td>\n",
       "      <td>0</td>\n",
       "      <td>0</td>\n",
       "      <td></td>\n",
       "      <td></td>\n",
       "      <td>0</td>\n",
       "      <td>lidong</td>\n",
       "      <td></td>\n",
       "    </tr>\n",
       "  </tbody>\n",
       "</table>\n",
       "</div>\n",
       "</div>\n",
       "<div class=\"cas-output-area\"></div>\n",
       "<p class=\"cas-results-performance\"><small><span class=\"cas-elapsed\">elapsed 0.00104s</span> &#183; <span class=\"cas-sys\">sys 0.001s</span> &#183; <span class=\"cas-memory\">mem 0.21MB</span></small></p>"
      ],
      "text/plain": [
       "[TableInfo]\n",
       "\n",
       "           Name  Rows  Columns Encoding CreateTimeFormatted  \\\n",
       " 0  TMPZ90EA2AZ  1000       51    utf-8  09May2017:15:20:29   \n",
       " \n",
       "      ModTimeFormatted JavaCharSet    CreateTime       ModTime  Global  \\\n",
       " 0  09May2017:15:20:29        UTF8  1.809962e+09  1.809962e+09       0   \n",
       " \n",
       "    Repeated  View SourceName SourceCaslib  Compressed Creator Modifier  \n",
       " 0         0     0                                   0  lidong           \n",
       "\n",
       "+ Elapsed: 0.00104s, sys: 0.001s, mem: 0.21mb"
      ]
     },
     "execution_count": 5,
     "metadata": {},
     "output_type": "execute_result"
    }
   ],
   "source": [
    "casdata.tableinfo()"
   ]
  },
  {
   "cell_type": "markdown",
   "metadata": {},
   "source": [
    "### Estimator"
   ]
  },
  {
   "cell_type": "markdown",
   "metadata": {},
   "source": [
    "Import regression models: decision tree, random forest and gradient boosting tree"
   ]
  },
  {
   "cell_type": "code",
   "execution_count": 6,
   "metadata": {
    "collapsed": false
   },
   "outputs": [],
   "source": [
    "from pipefitter.estimator import DecisionTree, DecisionForest, GBTree"
   ]
  },
  {
   "cell_type": "markdown",
   "metadata": {},
   "source": [
    "Create a DecisionTree object. This object is the high-level object that has no knowledge of CAS or SAS."
   ]
  },
  {
   "cell_type": "code",
   "execution_count": 7,
   "metadata": {
    "collapsed": true
   },
   "outputs": [],
   "source": [
    "params = dict(target='label', \n",
    "              inputs=['a'+str(i) for i in range(50)])"
   ]
  },
  {
   "cell_type": "code",
   "execution_count": 8,
   "metadata": {
    "collapsed": false
   },
   "outputs": [
    {
     "data": {
      "text/plain": [
       "DecisionTree(alpha=0.0, cf_level=0.25, criterion=None, inputs=['a0', 'a1', 'a2', 'a3', 'a4', 'a5', 'a6', 'a7', 'a8', 'a9', 'a10', 'a11', 'a12', 'a13', 'a14', 'a15', 'a16', 'a17', 'a18', 'a19', 'a20', 'a21', 'a22', 'a23', 'a24', 'a25', 'a26', 'a27', 'a28', 'a29', 'a30', 'a31', 'a32', 'a33', 'a34', 'a35', 'a36', 'a37', 'a38', 'a39', 'a40', 'a41', 'a42', 'a43', 'a44', 'a45', 'a46', 'a47', 'a48', 'a49'], leaf_size=5, max_branches=2, max_depth=6, n_bins=20, nominals=[], prune=False, target='label', var_importance=False)"
      ]
     },
     "execution_count": 8,
     "metadata": {},
     "output_type": "execute_result"
    }
   ],
   "source": [
    "dtree = DecisionTree(max_depth=6, **params)\n",
    "dtree"
   ]
  },
  {
   "cell_type": "markdown",
   "metadata": {},
   "source": [
    "#### Decision Tree Fit and Score of CAS Table\n",
    "\n",
    "Using the `DecisionTree` instance, we'll first run the `fit` method on the data set.  This will return a model object."
   ]
  },
  {
   "cell_type": "code",
   "execution_count": 9,
   "metadata": {
    "collapsed": false
   },
   "outputs": [
    {
     "data": {
      "text/plain": [
       "DecisionTreeModel(alpha=0.0, cf_level=0.25, criterion=None, inputs=['a0', 'a1', 'a2', 'a3', 'a4', 'a5', 'a6', 'a7', 'a8', 'a9', 'a10', 'a11', 'a12', 'a13', 'a14', 'a15', 'a16', 'a17', 'a18', 'a19', 'a20', 'a21', 'a22', 'a23', 'a24', 'a25', 'a26', 'a27', 'a28', 'a29', 'a30', 'a31', 'a32', 'a33', 'a34', 'a35', 'a36', 'a37', 'a38', 'a39', 'a40', 'a41', 'a42', 'a43', 'a44', 'a45', 'a46', 'a47', 'a48', 'a49'], leaf_size=5, max_branches=2, max_depth=6, n_bins=20, nominals=[], prune=False, target='label', var_importance=False)"
      ]
     },
     "execution_count": 9,
     "metadata": {},
     "output_type": "execute_result"
    }
   ],
   "source": [
    "model = dtree.fit(casdata)\n",
    "model"
   ]
  },
  {
   "cell_type": "markdown",
   "metadata": {},
   "source": [
    "The ``score`` method can then be called on the resulting model object"
   ]
  },
  {
   "cell_type": "code",
   "execution_count": 10,
   "metadata": {
    "collapsed": false
   },
   "outputs": [
    {
     "data": {
      "text/plain": [
       "Target                                        label\n",
       "Level                                      INTERVAL\n",
       "Var                                   _DT_PredMean_\n",
       "NBins                                           100\n",
       "NObsUsed                                       1000\n",
       "TargetCount                                    1000\n",
       "TargetMiss                                        0\n",
       "PredCount                                      1000\n",
       "PredMiss                                          0\n",
       "AverageAbsoluteError                        5.40905\n",
       "AverageSquaredError                         45.1413\n",
       "AverageSquaredLogarithmicError             0.609637\n",
       "RootAverageAbsoluteError                    2.32574\n",
       "RootAverageSquaredError                     6.71873\n",
       "RootAverageSquaredLogarithmicError         0.780792\n",
       "dtype: object"
      ]
     },
     "execution_count": 10,
     "metadata": {},
     "output_type": "execute_result"
    }
   ],
   "source": [
    "score = model.score(casdata)\n",
    "score"
   ]
  },
  {
   "cell_type": "markdown",
   "metadata": {
    "collapsed": true
   },
   "source": [
    "### HyperParameter Tuning"
   ]
  },
  {
   "cell_type": "markdown",
   "metadata": {},
   "source": [
    "The hyper-parameter tuning classes allow you to test multiple sets of parameters across\n",
    "a set of estimators."
   ]
  },
  {
   "cell_type": "code",
   "execution_count": 11,
   "metadata": {
    "collapsed": true
   },
   "outputs": [],
   "source": [
    "from pipefitter.model_selection import HyperParameterTuning"
   ]
  },
  {
   "cell_type": "markdown",
   "metadata": {},
   "source": [
    "define parameter space"
   ]
  },
  {
   "cell_type": "code",
   "execution_count": 12,
   "metadata": {
    "collapsed": true
   },
   "outputs": [],
   "source": [
    "param_grid = dict(\n",
    "    max_depth=[6, 10],\n",
    "    leaf_size=[3, 5],\n",
    ")"
   ]
  },
  {
   "cell_type": "code",
   "execution_count": 13,
   "metadata": {
    "collapsed": true
   },
   "outputs": [],
   "source": [
    "hpt = HyperParameterTuning(\n",
    "          estimator=DecisionTree(target='label', \n",
    "              inputs=['a'+str(i) for i in range(50)]),\n",
    "          param_grid=param_grid, \n",
    "          cv=3)"
   ]
  },
  {
   "cell_type": "code",
   "execution_count": 14,
   "metadata": {
    "collapsed": false
   },
   "outputs": [
    {
     "data": {
      "text/html": [
       "<div>\n",
       "<table border=\"1\" class=\"dataframe\">\n",
       "  <thead>\n",
       "    <tr style=\"text-align: right;\">\n",
       "      <th></th>\n",
       "      <th>MeanScore</th>\n",
       "      <th>ScoreStd</th>\n",
       "      <th>Parameters</th>\n",
       "      <th>FoldScores</th>\n",
       "      <th>MeanClockTime</th>\n",
       "    </tr>\n",
       "  </thead>\n",
       "  <tbody>\n",
       "    <tr>\n",
       "      <th>0</th>\n",
       "      <td>64.033971</td>\n",
       "      <td>4.462896</td>\n",
       "      <td>{'max_depth': 6, 'leaf_size': 5}</td>\n",
       "      <td>[67.66779226021174, 66.68907746010373, 57.7492...</td>\n",
       "      <td>0.000574</td>\n",
       "    </tr>\n",
       "    <tr>\n",
       "      <th>1</th>\n",
       "      <td>66.068731</td>\n",
       "      <td>2.973981</td>\n",
       "      <td>{'max_depth': 6, 'leaf_size': 3}</td>\n",
       "      <td>[69.36152128839937, 66.66353057701731, 62.1523...</td>\n",
       "      <td>0.000578</td>\n",
       "    </tr>\n",
       "    <tr>\n",
       "      <th>2</th>\n",
       "      <td>73.500004</td>\n",
       "      <td>3.667657</td>\n",
       "      <td>{'max_depth': 10, 'leaf_size': 5}</td>\n",
       "      <td>[74.63014496848004, 77.35032653322236, 68.5751...</td>\n",
       "      <td>0.000586</td>\n",
       "    </tr>\n",
       "    <tr>\n",
       "      <th>3</th>\n",
       "      <td>77.890286</td>\n",
       "      <td>3.530998</td>\n",
       "      <td>{'max_depth': 10, 'leaf_size': 3}</td>\n",
       "      <td>[77.81242056005406, 82.29285231553257, 73.6456...</td>\n",
       "      <td>0.000602</td>\n",
       "    </tr>\n",
       "  </tbody>\n",
       "</table>\n",
       "</div>"
      ],
      "text/plain": [
       "   MeanScore  ScoreStd                         Parameters  \\\n",
       "0  64.033971  4.462896   {'max_depth': 6, 'leaf_size': 5}   \n",
       "1  66.068731  2.973981   {'max_depth': 6, 'leaf_size': 3}   \n",
       "2  73.500004  3.667657  {'max_depth': 10, 'leaf_size': 5}   \n",
       "3  77.890286  3.530998  {'max_depth': 10, 'leaf_size': 3}   \n",
       "\n",
       "                                          FoldScores  MeanClockTime  \n",
       "0  [67.66779226021174, 66.68907746010373, 57.7492...       0.000574  \n",
       "1  [69.36152128839937, 66.66353057701731, 62.1523...       0.000578  \n",
       "2  [74.63014496848004, 77.35032653322236, 68.5751...       0.000586  \n",
       "3  [77.81242056005406, 82.29285231553257, 73.6456...       0.000602  "
      ]
     },
     "execution_count": 14,
     "metadata": {},
     "output_type": "execute_result"
    }
   ],
   "source": [
    "hpt.gridsearch(casdata)"
   ]
  },
  {
   "cell_type": "markdown",
   "metadata": {
    "collapsed": true
   },
   "source": [
    "## SAS 9 Version"
   ]
  },
  {
   "cell_type": "markdown",
   "metadata": {},
   "source": [
    "### Open sas session and load sas data"
   ]
  },
  {
   "cell_type": "code",
   "execution_count": 15,
   "metadata": {
    "collapsed": false
   },
   "outputs": [
    {
     "name": "stdout",
     "output_type": "stream",
     "text": [
      "SAS Connection established. Subprocess id is 1706\n",
      "\n"
     ]
    }
   ],
   "source": [
    "import saspy\n",
    "sas = saspy.SASsession(cfgname='tdi')"
   ]
  },
  {
   "cell_type": "code",
   "execution_count": 16,
   "metadata": {
    "collapsed": false
   },
   "outputs": [],
   "source": [
    "sasdata = sas.dataframe2sasdata(data)"
   ]
  },
  {
   "cell_type": "code",
   "execution_count": 17,
   "metadata": {
    "collapsed": false
   },
   "outputs": [],
   "source": [
    "from pipefitter.estimator import DecisionTree, DecisionForest, GBTree"
   ]
  },
  {
   "cell_type": "code",
   "execution_count": 18,
   "metadata": {
    "collapsed": true
   },
   "outputs": [],
   "source": [
    "params = dict(target='label', \n",
    "              inputs=['a'+str(i) for i in range(50)])"
   ]
  },
  {
   "cell_type": "code",
   "execution_count": 19,
   "metadata": {
    "collapsed": false
   },
   "outputs": [
    {
     "data": {
      "text/plain": [
       "DecisionTree(alpha=0.0, cf_level=0.25, criterion=None, inputs=['a0', 'a1', 'a2', 'a3', 'a4', 'a5', 'a6', 'a7', 'a8', 'a9', 'a10', 'a11', 'a12', 'a13', 'a14', 'a15', 'a16', 'a17', 'a18', 'a19', 'a20', 'a21', 'a22', 'a23', 'a24', 'a25', 'a26', 'a27', 'a28', 'a29', 'a30', 'a31', 'a32', 'a33', 'a34', 'a35', 'a36', 'a37', 'a38', 'a39', 'a40', 'a41', 'a42', 'a43', 'a44', 'a45', 'a46', 'a47', 'a48', 'a49'], leaf_size=5, max_branches=2, max_depth=6, n_bins=20, nominals=[], prune=False, target='label', var_importance=False)"
      ]
     },
     "execution_count": 19,
     "metadata": {},
     "output_type": "execute_result"
    }
   ],
   "source": [
    "dtree = DecisionTree(max_depth=6, **params)\n",
    "dtree"
   ]
  },
  {
   "cell_type": "markdown",
   "metadata": {},
   "source": [
    "#### Decision Tree Fit and Score of SAS Table"
   ]
  },
  {
   "cell_type": "code",
   "execution_count": 21,
   "metadata": {
    "collapsed": false
   },
   "outputs": [
    {
     "data": {
      "text/plain": [
       "DecisionTreeModel(alpha=0.0, cf_level=0.25, criterion=None, inputs=['a0', 'a1', 'a2', 'a3', 'a4', 'a5', 'a6', 'a7', 'a8', 'a9', 'a10', 'a11', 'a12', 'a13', 'a14', 'a15', 'a16', 'a17', 'a18', 'a19', 'a20', 'a21', 'a22', 'a23', 'a24', 'a25', 'a26', 'a27', 'a28', 'a29', 'a30', 'a31', 'a32', 'a33', 'a34', 'a35', 'a36', 'a37', 'a38', 'a39', 'a40', 'a41', 'a42', 'a43', 'a44', 'a45', 'a46', 'a47', 'a48', 'a49'], leaf_size=5, max_branches=2, max_depth=6, n_bins=20, nominals=[], prune=False, target='label', var_importance=False)"
      ]
     },
     "execution_count": 21,
     "metadata": {},
     "output_type": "execute_result"
    }
   ],
   "source": [
    "model = dtree.fit(sasdata)\n",
    "model"
   ]
  },
  {
   "cell_type": "code",
   "execution_count": 22,
   "metadata": {
    "collapsed": false
   },
   "outputs": [
    {
     "data": {
      "text/plain": [
       "Target                               label\n",
       "Level                             INTERVAL\n",
       "Var                                P_label\n",
       "NBins                                  100\n",
       "NObsUsed                              1000\n",
       "TargetCount                           1000\n",
       "TargetMiss                               0\n",
       "PredCount                             1000\n",
       "PredMiss                                 0\n",
       "SumSquaredError                    40496.7\n",
       "Divsor                                1000\n",
       "AverageSquaredError                40.4967\n",
       "RootAverageSquaredError             6.3637\n",
       "MeanPredictionValue                9.67758\n",
       "StandardDeviationPrediction        4.19754\n",
       "CoefficientVariationPrediction    0.433739\n",
       "dtype: object"
      ]
     },
     "execution_count": 22,
     "metadata": {},
     "output_type": "execute_result"
    }
   ],
   "source": [
    "score = model.score(sasdata)\n",
    "score"
   ]
  },
  {
   "cell_type": "markdown",
   "metadata": {},
   "source": [
    "### HyperParameter Tuning"
   ]
  },
  {
   "cell_type": "code",
   "execution_count": 23,
   "metadata": {
    "collapsed": true
   },
   "outputs": [],
   "source": [
    "from pipefitter.model_selection import HyperParameterTuning"
   ]
  },
  {
   "cell_type": "code",
   "execution_count": 24,
   "metadata": {
    "collapsed": true
   },
   "outputs": [],
   "source": [
    "param_grid = dict(\n",
    "    max_depth=[6, 10],\n",
    "    leaf_size=[3, 5],\n",
    ")"
   ]
  },
  {
   "cell_type": "code",
   "execution_count": 25,
   "metadata": {
    "collapsed": true
   },
   "outputs": [],
   "source": [
    "hpt = HyperParameterTuning(\n",
    "          estimator=DecisionTree(target='label', \n",
    "              inputs=['a'+str(i) for i in range(50)]),\n",
    "          param_grid=param_grid, \n",
    "          cv=3)"
   ]
  },
  {
   "cell_type": "code",
   "execution_count": 26,
   "metadata": {
    "collapsed": false
   },
   "outputs": [
    {
     "data": {
      "text/html": [
       "<div>\n",
       "<table border=\"1\" class=\"dataframe\">\n",
       "  <thead>\n",
       "    <tr style=\"text-align: right;\">\n",
       "      <th></th>\n",
       "      <th>MeanScore</th>\n",
       "      <th>ScoreStd</th>\n",
       "      <th>Parameters</th>\n",
       "      <th>FoldScores</th>\n",
       "      <th>MeanClockTime</th>\n",
       "    </tr>\n",
       "  </thead>\n",
       "  <tbody>\n",
       "    <tr>\n",
       "      <th>0</th>\n",
       "      <td>67.518192</td>\n",
       "      <td>2.914376</td>\n",
       "      <td>{'max_depth': 6, 'leaf_size': 3}</td>\n",
       "      <td>[64.3333611383824, 71.37622528899391, 66.84498...</td>\n",
       "      <td>0.014081</td>\n",
       "    </tr>\n",
       "    <tr>\n",
       "      <th>1</th>\n",
       "      <td>67.518192</td>\n",
       "      <td>2.914376</td>\n",
       "      <td>{'max_depth': 6, 'leaf_size': 5}</td>\n",
       "      <td>[64.3333611383824, 71.37622528899391, 66.84498...</td>\n",
       "      <td>0.008604</td>\n",
       "    </tr>\n",
       "    <tr>\n",
       "      <th>2</th>\n",
       "      <td>81.668458</td>\n",
       "      <td>1.267523</td>\n",
       "      <td>{'max_depth': 10, 'leaf_size': 3}</td>\n",
       "      <td>[80.6143748368767, 83.4511284043157, 80.939870...</td>\n",
       "      <td>0.010123</td>\n",
       "    </tr>\n",
       "    <tr>\n",
       "      <th>3</th>\n",
       "      <td>81.668458</td>\n",
       "      <td>1.267523</td>\n",
       "      <td>{'max_depth': 10, 'leaf_size': 5}</td>\n",
       "      <td>[80.6143748368767, 83.4511284043157, 80.939870...</td>\n",
       "      <td>0.008844</td>\n",
       "    </tr>\n",
       "  </tbody>\n",
       "</table>\n",
       "</div>"
      ],
      "text/plain": [
       "   MeanScore  ScoreStd                         Parameters  \\\n",
       "0  67.518192  2.914376   {'max_depth': 6, 'leaf_size': 3}   \n",
       "1  67.518192  2.914376   {'max_depth': 6, 'leaf_size': 5}   \n",
       "2  81.668458  1.267523  {'max_depth': 10, 'leaf_size': 3}   \n",
       "3  81.668458  1.267523  {'max_depth': 10, 'leaf_size': 5}   \n",
       "\n",
       "                                          FoldScores  MeanClockTime  \n",
       "0  [64.3333611383824, 71.37622528899391, 66.84498...       0.014081  \n",
       "1  [64.3333611383824, 71.37622528899391, 66.84498...       0.008604  \n",
       "2  [80.6143748368767, 83.4511284043157, 80.939870...       0.010123  \n",
       "3  [80.6143748368767, 83.4511284043157, 80.939870...       0.008844  "
      ]
     },
     "execution_count": 26,
     "metadata": {},
     "output_type": "execute_result"
    }
   ],
   "source": [
    "hpt.gridsearch(sasdata)"
   ]
  },
  {
   "cell_type": "code",
   "execution_count": null,
   "metadata": {
    "collapsed": true
   },
   "outputs": [],
   "source": []
  }
 ],
 "metadata": {
  "kernelspec": {
   "display_name": "Python 3",
   "language": "python",
   "name": "python3"
  },
  "language_info": {
   "codemirror_mode": {
    "name": "ipython",
    "version": 3
   },
   "file_extension": ".py",
   "mimetype": "text/x-python",
   "name": "python",
   "nbconvert_exporter": "python",
   "pygments_lexer": "ipython3",
   "version": "3.4.5"
  }
 },
 "nbformat": 4,
 "nbformat_minor": 0
}
