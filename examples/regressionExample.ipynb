{
 "cells": [
  {
   "cell_type": "code",
   "execution_count": 1,
   "metadata": {
    "collapsed": true
   },
   "outputs": [],
   "source": [
    "import swat\n",
    "import importlib\n",
    "import numpy as np\n",
    "import pandas as pd\n",
    "swat = importlib.reload(swat)\n",
    "import sys\n",
    "sys.path.append('../')"
   ]
  },
  {
   "cell_type": "markdown",
   "metadata": {},
   "source": [
    "#### Generate Data\n",
    "\n",
    "Idea from Chapter 10 Boosting and Additive Trees, 'the elements of statistical learning', Trevor Hastie. Robert Tibshirani. Jerome Friedman"
   ]
  },
  {
   "cell_type": "code",
   "execution_count": 2,
   "metadata": {
    "collapsed": false
   },
   "outputs": [
    {
     "data": {
      "text/html": [
       "<div>\n",
       "<table border=\"1\" class=\"dataframe\">\n",
       "  <thead>\n",
       "    <tr style=\"text-align: right;\">\n",
       "      <th></th>\n",
       "      <th>0</th>\n",
       "      <th>1</th>\n",
       "      <th>2</th>\n",
       "      <th>3</th>\n",
       "      <th>4</th>\n",
       "      <th>5</th>\n",
       "      <th>6</th>\n",
       "      <th>7</th>\n",
       "      <th>8</th>\n",
       "      <th>9</th>\n",
       "      <th>...</th>\n",
       "      <th>41</th>\n",
       "      <th>42</th>\n",
       "      <th>43</th>\n",
       "      <th>44</th>\n",
       "      <th>45</th>\n",
       "      <th>46</th>\n",
       "      <th>47</th>\n",
       "      <th>48</th>\n",
       "      <th>49</th>\n",
       "      <th>label</th>\n",
       "    </tr>\n",
       "  </thead>\n",
       "  <tbody>\n",
       "    <tr>\n",
       "      <th>0</th>\n",
       "      <td>-0.007493</td>\n",
       "      <td>-0.254256</td>\n",
       "      <td>0.943714</td>\n",
       "      <td>1.320606</td>\n",
       "      <td>0.152540</td>\n",
       "      <td>-0.722262</td>\n",
       "      <td>0.619254</td>\n",
       "      <td>0.088562</td>\n",
       "      <td>-0.400675</td>\n",
       "      <td>0.273277</td>\n",
       "      <td>...</td>\n",
       "      <td>0.692341</td>\n",
       "      <td>-0.192567</td>\n",
       "      <td>-1.544246</td>\n",
       "      <td>-0.452088</td>\n",
       "      <td>0.197781</td>\n",
       "      <td>-2.788997</td>\n",
       "      <td>-1.540466</td>\n",
       "      <td>0.732558</td>\n",
       "      <td>-0.542412</td>\n",
       "      <td>8.360026</td>\n",
       "    </tr>\n",
       "    <tr>\n",
       "      <th>1</th>\n",
       "      <td>-0.050378</td>\n",
       "      <td>-0.420500</td>\n",
       "      <td>-0.329569</td>\n",
       "      <td>-0.445582</td>\n",
       "      <td>-0.149846</td>\n",
       "      <td>0.208860</td>\n",
       "      <td>0.049302</td>\n",
       "      <td>0.220638</td>\n",
       "      <td>-0.231512</td>\n",
       "      <td>0.698283</td>\n",
       "      <td>...</td>\n",
       "      <td>-0.956949</td>\n",
       "      <td>0.873738</td>\n",
       "      <td>-0.562571</td>\n",
       "      <td>1.106439</td>\n",
       "      <td>2.119756</td>\n",
       "      <td>-1.110310</td>\n",
       "      <td>-2.415102</td>\n",
       "      <td>0.047699</td>\n",
       "      <td>1.299589</td>\n",
       "      <td>4.724155</td>\n",
       "    </tr>\n",
       "    <tr>\n",
       "      <th>2</th>\n",
       "      <td>1.625406</td>\n",
       "      <td>1.463200</td>\n",
       "      <td>-0.242348</td>\n",
       "      <td>-0.367632</td>\n",
       "      <td>-0.203130</td>\n",
       "      <td>-0.142465</td>\n",
       "      <td>-0.623666</td>\n",
       "      <td>0.627395</td>\n",
       "      <td>-0.313969</td>\n",
       "      <td>-0.662891</td>\n",
       "      <td>...</td>\n",
       "      <td>-1.388141</td>\n",
       "      <td>0.149241</td>\n",
       "      <td>1.061887</td>\n",
       "      <td>0.008396</td>\n",
       "      <td>0.986308</td>\n",
       "      <td>-0.222105</td>\n",
       "      <td>-1.152790</td>\n",
       "      <td>0.800520</td>\n",
       "      <td>1.432791</td>\n",
       "      <td>-1.854019</td>\n",
       "    </tr>\n",
       "    <tr>\n",
       "      <th>3</th>\n",
       "      <td>-0.013379</td>\n",
       "      <td>-0.092329</td>\n",
       "      <td>0.329632</td>\n",
       "      <td>-1.202536</td>\n",
       "      <td>-1.626637</td>\n",
       "      <td>-0.600046</td>\n",
       "      <td>-1.028200</td>\n",
       "      <td>-1.280613</td>\n",
       "      <td>-2.050329</td>\n",
       "      <td>-1.704493</td>\n",
       "      <td>...</td>\n",
       "      <td>0.687350</td>\n",
       "      <td>0.156483</td>\n",
       "      <td>-0.074395</td>\n",
       "      <td>-1.942796</td>\n",
       "      <td>0.788740</td>\n",
       "      <td>-1.488194</td>\n",
       "      <td>0.748380</td>\n",
       "      <td>0.037063</td>\n",
       "      <td>-0.360543</td>\n",
       "      <td>7.740393</td>\n",
       "    </tr>\n",
       "    <tr>\n",
       "      <th>4</th>\n",
       "      <td>0.725744</td>\n",
       "      <td>-1.531477</td>\n",
       "      <td>-1.141002</td>\n",
       "      <td>-3.196552</td>\n",
       "      <td>0.998813</td>\n",
       "      <td>-1.247302</td>\n",
       "      <td>0.548896</td>\n",
       "      <td>-1.144473</td>\n",
       "      <td>2.396329</td>\n",
       "      <td>0.529136</td>\n",
       "      <td>...</td>\n",
       "      <td>0.318008</td>\n",
       "      <td>0.738173</td>\n",
       "      <td>0.489923</td>\n",
       "      <td>-0.913560</td>\n",
       "      <td>-0.810846</td>\n",
       "      <td>1.333046</td>\n",
       "      <td>1.213844</td>\n",
       "      <td>-1.242368</td>\n",
       "      <td>1.033143</td>\n",
       "      <td>21.558883</td>\n",
       "    </tr>\n",
       "  </tbody>\n",
       "</table>\n",
       "<p>5 rows × 51 columns</p>\n",
       "</div>"
      ],
      "text/plain": [
       "          0         1         2         3         4         5         6  \\\n",
       "0 -0.007493 -0.254256  0.943714  1.320606  0.152540 -0.722262  0.619254   \n",
       "1 -0.050378 -0.420500 -0.329569 -0.445582 -0.149846  0.208860  0.049302   \n",
       "2  1.625406  1.463200 -0.242348 -0.367632 -0.203130 -0.142465 -0.623666   \n",
       "3 -0.013379 -0.092329  0.329632 -1.202536 -1.626637 -0.600046 -1.028200   \n",
       "4  0.725744 -1.531477 -1.141002 -3.196552  0.998813 -1.247302  0.548896   \n",
       "\n",
       "          7         8         9    ...            41        42        43  \\\n",
       "0  0.088562 -0.400675  0.273277    ...      0.692341 -0.192567 -1.544246   \n",
       "1  0.220638 -0.231512  0.698283    ...     -0.956949  0.873738 -0.562571   \n",
       "2  0.627395 -0.313969 -0.662891    ...     -1.388141  0.149241  1.061887   \n",
       "3 -1.280613 -2.050329 -1.704493    ...      0.687350  0.156483 -0.074395   \n",
       "4 -1.144473  2.396329  0.529136    ...      0.318008  0.738173  0.489923   \n",
       "\n",
       "         44        45        46        47        48        49      label  \n",
       "0 -0.452088  0.197781 -2.788997 -1.540466  0.732558 -0.542412   8.360026  \n",
       "1  1.106439  2.119756 -1.110310 -2.415102  0.047699  1.299589   4.724155  \n",
       "2  0.008396  0.986308 -0.222105 -1.152790  0.800520  1.432791  -1.854019  \n",
       "3 -1.942796  0.788740 -1.488194  0.748380  0.037063 -0.360543   7.740393  \n",
       "4 -0.913560 -0.810846  1.333046  1.213844 -1.242368  1.033143  21.558883  \n",
       "\n",
       "[5 rows x 51 columns]"
      ]
     },
     "execution_count": 2,
     "metadata": {},
     "output_type": "execute_result"
    }
   ],
   "source": [
    "mu, sigma = 0, 1 # mean and standard deviation\n",
    "\n",
    "np.random.normal(mu, sigma, 10)\n",
    "\n",
    "allnumpys = list()\n",
    "for i in range(50):\n",
    "    st = np.random.normal(mu, sigma, 1000)\n",
    "    allnumpys.append(st)\n",
    "\n",
    "data = pd.DataFrame(allnumpys)\n",
    "\n",
    "data = data.transpose()\n",
    "\n",
    "data['label']=1\n",
    "\n",
    "def f(x):\n",
    "    sumn=0\n",
    "    for i in range(10):\n",
    "        sumn = sumn + x[i]*x[i]+2*np.random.normal(0, 1, 1)\n",
    "    return sumn\n",
    "\n",
    "data['label']=data.apply(f, axis=1) \n",
    "data.head()"
   ]
  },
  {
   "cell_type": "markdown",
   "metadata": {},
   "source": [
    "### Create Connections and Load Data ( SAS Viya version)"
   ]
  },
  {
   "cell_type": "code",
   "execution_count": 3,
   "metadata": {
    "collapsed": true
   },
   "outputs": [],
   "source": [
    "casconn = swat.CAS('snap001', 14298, nworkers=10)\n",
    "\n",
    "casdata = casconn.CASTable('casdata')"
   ]
  },
  {
   "cell_type": "code",
   "execution_count": 4,
   "metadata": {
    "collapsed": false
   },
   "outputs": [
    {
     "name": "stdout",
     "output_type": "stream",
     "text": [
      "NOTE: Cloud Analytic Services made the uploaded file available as table CASDATA in caslib CASUSERHDFS(lidong).\n",
      "NOTE: The table CASDATA has been created in caslib CASUSERHDFS(lidong) from binary data uploaded to Cloud Analytic Services.\n"
     ]
    },
    {
     "data": {
      "text/html": [
       "<div class=\"cas-results-key\"><b>&#167; caslib</b></div>\n",
       "<div class=\"cas-results-body\">\n",
       "<div>CASUSERHDFS(lidong)</div>\n",
       "</div>\n",
       "<div class=\"cas-results-key\"><hr/><b>&#167; tableName</b></div>\n",
       "<div class=\"cas-results-body\">\n",
       "<div>CASDATA</div>\n",
       "</div>\n",
       "<div class=\"cas-results-key\"><hr/><b>&#167; casTable</b></div>\n",
       "<div class=\"cas-results-body\">\n",
       "<div>CASTable('CASDATA', caslib='CASUSERHDFS(lidong)')</div>\n",
       "</div>\n",
       "<div class=\"cas-output-area\"></div>\n",
       "<p class=\"cas-results-performance\"><small><span class=\"cas-elapsed\">elapsed 0.0926s</span> &#183; <span class=\"cas-user\">user 0.104s</span> &#183; <span class=\"cas-sys\">sys 0.15s</span> &#183; <span class=\"cas-memory\">mem 246MB</span></small></p>"
      ],
      "text/plain": [
       "[caslib]\n",
       "\n",
       " 'CASUSERHDFS(lidong)'\n",
       "\n",
       "[tableName]\n",
       "\n",
       " 'CASDATA'\n",
       "\n",
       "[casTable]\n",
       "\n",
       " CASTable('CASDATA', caslib='CASUSERHDFS(lidong)')\n",
       "\n",
       "+ Elapsed: 0.0926s, user: 0.104s, sys: 0.15s, mem: 246mb"
      ]
     },
     "execution_count": 4,
     "metadata": {},
     "output_type": "execute_result"
    }
   ],
   "source": [
    "casconn.upload(data, casout=casdata)"
   ]
  },
  {
   "cell_type": "code",
   "execution_count": 5,
   "metadata": {
    "collapsed": false
   },
   "outputs": [
    {
     "data": {
      "text/html": [
       "<div>\n",
       "<table border=\"1\" class=\"dataframe\"><caption>Selected Rows from Table CASDATA</caption>\n",
       "  <thead>\n",
       "    <tr style=\"text-align: right;\">\n",
       "      <th title=\"\"></th>\n",
       "      <th title=\"0\">0</th>\n",
       "      <th title=\"1\">1</th>\n",
       "      <th title=\"2\">2</th>\n",
       "      <th title=\"3\">3</th>\n",
       "      <th title=\"4\">4</th>\n",
       "      <th title=\"5\">5</th>\n",
       "      <th title=\"6\">6</th>\n",
       "      <th title=\"7\">7</th>\n",
       "      <th title=\"8\">8</th>\n",
       "      <th title=\"9\">9</th>\n",
       "      <th title=\"...\">...</th>\n",
       "      <th title=\"41\">41</th>\n",
       "      <th title=\"42\">42</th>\n",
       "      <th title=\"43\">43</th>\n",
       "      <th title=\"44\">44</th>\n",
       "      <th title=\"45\">45</th>\n",
       "      <th title=\"46\">46</th>\n",
       "      <th title=\"47\">47</th>\n",
       "      <th title=\"48\">48</th>\n",
       "      <th title=\"49\">49</th>\n",
       "      <th title=\"label\">label</th>\n",
       "    </tr>\n",
       "  </thead>\n",
       "  <tbody>\n",
       "    <tr>\n",
       "      <th>0</th>\n",
       "      <td>-0.007493</td>\n",
       "      <td>-0.254256</td>\n",
       "      <td>0.943714</td>\n",
       "      <td>1.320606</td>\n",
       "      <td>0.152540</td>\n",
       "      <td>-0.722262</td>\n",
       "      <td>0.619254</td>\n",
       "      <td>0.088562</td>\n",
       "      <td>-0.400675</td>\n",
       "      <td>0.273277</td>\n",
       "      <td>...</td>\n",
       "      <td>0.692341</td>\n",
       "      <td>-0.192567</td>\n",
       "      <td>-1.544246</td>\n",
       "      <td>-0.452088</td>\n",
       "      <td>0.197781</td>\n",
       "      <td>-2.788997</td>\n",
       "      <td>-1.540466</td>\n",
       "      <td>0.732558</td>\n",
       "      <td>-0.542412</td>\n",
       "      <td>8.360026</td>\n",
       "    </tr>\n",
       "    <tr>\n",
       "      <th>1</th>\n",
       "      <td>-0.050378</td>\n",
       "      <td>-0.420500</td>\n",
       "      <td>-0.329569</td>\n",
       "      <td>-0.445582</td>\n",
       "      <td>-0.149846</td>\n",
       "      <td>0.208860</td>\n",
       "      <td>0.049302</td>\n",
       "      <td>0.220638</td>\n",
       "      <td>-0.231512</td>\n",
       "      <td>0.698283</td>\n",
       "      <td>...</td>\n",
       "      <td>-0.956949</td>\n",
       "      <td>0.873738</td>\n",
       "      <td>-0.562571</td>\n",
       "      <td>1.106439</td>\n",
       "      <td>2.119756</td>\n",
       "      <td>-1.110310</td>\n",
       "      <td>-2.415102</td>\n",
       "      <td>0.047699</td>\n",
       "      <td>1.299589</td>\n",
       "      <td>4.724155</td>\n",
       "    </tr>\n",
       "    <tr>\n",
       "      <th>2</th>\n",
       "      <td>1.625406</td>\n",
       "      <td>1.463200</td>\n",
       "      <td>-0.242348</td>\n",
       "      <td>-0.367632</td>\n",
       "      <td>-0.203130</td>\n",
       "      <td>-0.142465</td>\n",
       "      <td>-0.623666</td>\n",
       "      <td>0.627395</td>\n",
       "      <td>-0.313969</td>\n",
       "      <td>-0.662891</td>\n",
       "      <td>...</td>\n",
       "      <td>-1.388141</td>\n",
       "      <td>0.149241</td>\n",
       "      <td>1.061887</td>\n",
       "      <td>0.008396</td>\n",
       "      <td>0.986308</td>\n",
       "      <td>-0.222105</td>\n",
       "      <td>-1.152790</td>\n",
       "      <td>0.800520</td>\n",
       "      <td>1.432791</td>\n",
       "      <td>-1.854019</td>\n",
       "    </tr>\n",
       "    <tr>\n",
       "      <th>3</th>\n",
       "      <td>-0.013379</td>\n",
       "      <td>-0.092329</td>\n",
       "      <td>0.329632</td>\n",
       "      <td>-1.202536</td>\n",
       "      <td>-1.626637</td>\n",
       "      <td>-0.600046</td>\n",
       "      <td>-1.028200</td>\n",
       "      <td>-1.280613</td>\n",
       "      <td>-2.050329</td>\n",
       "      <td>-1.704493</td>\n",
       "      <td>...</td>\n",
       "      <td>0.687350</td>\n",
       "      <td>0.156483</td>\n",
       "      <td>-0.074395</td>\n",
       "      <td>-1.942796</td>\n",
       "      <td>0.788740</td>\n",
       "      <td>-1.488194</td>\n",
       "      <td>0.748380</td>\n",
       "      <td>0.037063</td>\n",
       "      <td>-0.360543</td>\n",
       "      <td>7.740393</td>\n",
       "    </tr>\n",
       "    <tr>\n",
       "      <th>4</th>\n",
       "      <td>0.725744</td>\n",
       "      <td>-1.531477</td>\n",
       "      <td>-1.141002</td>\n",
       "      <td>-3.196552</td>\n",
       "      <td>0.998813</td>\n",
       "      <td>-1.247302</td>\n",
       "      <td>0.548896</td>\n",
       "      <td>-1.144473</td>\n",
       "      <td>2.396329</td>\n",
       "      <td>0.529136</td>\n",
       "      <td>...</td>\n",
       "      <td>0.318008</td>\n",
       "      <td>0.738173</td>\n",
       "      <td>0.489923</td>\n",
       "      <td>-0.913560</td>\n",
       "      <td>-0.810846</td>\n",
       "      <td>1.333046</td>\n",
       "      <td>1.213844</td>\n",
       "      <td>-1.242368</td>\n",
       "      <td>1.033143</td>\n",
       "      <td>21.558883</td>\n",
       "    </tr>\n",
       "  </tbody>\n",
       "</table>\n",
       "<p>5 rows × 51 columns</p>\n",
       "</div>"
      ],
      "text/plain": [
       "Selected Rows from Table CASDATA\n",
       "\n",
       "          0         1         2         3         4         5         6  \\\n",
       "0 -0.007493 -0.254256  0.943714  1.320606  0.152540 -0.722262  0.619254   \n",
       "1 -0.050378 -0.420500 -0.329569 -0.445582 -0.149846  0.208860  0.049302   \n",
       "2  1.625406  1.463200 -0.242348 -0.367632 -0.203130 -0.142465 -0.623666   \n",
       "3 -0.013379 -0.092329  0.329632 -1.202536 -1.626637 -0.600046 -1.028200   \n",
       "4  0.725744 -1.531477 -1.141002 -3.196552  0.998813 -1.247302  0.548896   \n",
       "\n",
       "          7         8         9    ...            41        42        43  \\\n",
       "0  0.088562 -0.400675  0.273277    ...      0.692341 -0.192567 -1.544246   \n",
       "1  0.220638 -0.231512  0.698283    ...     -0.956949  0.873738 -0.562571   \n",
       "2  0.627395 -0.313969 -0.662891    ...     -1.388141  0.149241  1.061887   \n",
       "3 -1.280613 -2.050329 -1.704493    ...      0.687350  0.156483 -0.074395   \n",
       "4 -1.144473  2.396329  0.529136    ...      0.318008  0.738173  0.489923   \n",
       "\n",
       "         44        45        46        47        48        49      label  \n",
       "0 -0.452088  0.197781 -2.788997 -1.540466  0.732558 -0.542412   8.360026  \n",
       "1  1.106439  2.119756 -1.110310 -2.415102  0.047699  1.299589   4.724155  \n",
       "2  0.008396  0.986308 -0.222105 -1.152790  0.800520  1.432791  -1.854019  \n",
       "3 -1.942796  0.788740 -1.488194  0.748380  0.037063 -0.360543   7.740393  \n",
       "4 -0.913560 -0.810846  1.333046  1.213844 -1.242368  1.033143  21.558883  \n",
       "\n",
       "[5 rows x 51 columns]"
      ]
     },
     "execution_count": 5,
     "metadata": {},
     "output_type": "execute_result"
    }
   ],
   "source": [
    "casdata.head()"
   ]
  },
  {
   "cell_type": "code",
   "execution_count": 6,
   "metadata": {
    "collapsed": false
   },
   "outputs": [
    {
     "data": {
      "text/html": [
       "<div class=\"cas-results-key\"><b>&#167; TableInfo</b></div>\n",
       "<div class=\"cas-results-body\">\n",
       "<div>\n",
       "<table border=\"1\" class=\"dataframe\">\n",
       "  <thead>\n",
       "    <tr style=\"text-align: right;\">\n",
       "      <th title=\"\"></th>\n",
       "      <th title=\"Name\">Name</th>\n",
       "      <th title=\"Rows\">Rows</th>\n",
       "      <th title=\"Columns\">Columns</th>\n",
       "      <th title=\"Encoding\">Encoding</th>\n",
       "      <th title=\"Created\">CreateTimeFormatted</th>\n",
       "      <th title=\"Last Modified\">ModTimeFormatted</th>\n",
       "      <th title=\"Character Set\">JavaCharSet</th>\n",
       "      <th title=\"CreateTime\">CreateTime</th>\n",
       "      <th title=\"ModTime\">ModTime</th>\n",
       "      <th title=\"Global\">Global</th>\n",
       "      <th title=\"Repeated\">Repeated</th>\n",
       "      <th title=\"View\">View</th>\n",
       "      <th title=\"Loaded Source\">SourceName</th>\n",
       "      <th title=\"Source Caslib\">SourceCaslib</th>\n",
       "      <th title=\"Compressed\">Compressed</th>\n",
       "      <th title=\"Table Creator\">Creator</th>\n",
       "      <th title=\"Last Table Modifier\">Modifier</th>\n",
       "    </tr>\n",
       "  </thead>\n",
       "  <tbody>\n",
       "    <tr>\n",
       "      <th>0</th>\n",
       "      <td>CASDATA</td>\n",
       "      <td>1000</td>\n",
       "      <td>51</td>\n",
       "      <td>utf-8</td>\n",
       "      <td>18Apr2017:14:57:19</td>\n",
       "      <td>18Apr2017:14:57:19</td>\n",
       "      <td>UTF8</td>\n",
       "      <td>1.808147e+09</td>\n",
       "      <td>1.808147e+09</td>\n",
       "      <td>0</td>\n",
       "      <td>0</td>\n",
       "      <td>0</td>\n",
       "      <td></td>\n",
       "      <td></td>\n",
       "      <td>0</td>\n",
       "      <td>lidong</td>\n",
       "      <td></td>\n",
       "    </tr>\n",
       "  </tbody>\n",
       "</table>\n",
       "</div>\n",
       "</div>\n",
       "<div class=\"cas-output-area\"></div>\n",
       "<p class=\"cas-results-performance\"><small><span class=\"cas-elapsed\">elapsed 0.00502s</span> &#183; <span class=\"cas-user\">user 0.009s</span> &#183; <span class=\"cas-sys\">sys 0.01s</span> &#183; <span class=\"cas-memory\">mem 0.462MB</span></small></p>"
      ],
      "text/plain": [
       "[TableInfo]\n",
       "\n",
       "       Name  Rows  Columns Encoding CreateTimeFormatted    ModTimeFormatted  \\\n",
       " 0  CASDATA  1000       51    utf-8  18Apr2017:14:57:19  18Apr2017:14:57:19   \n",
       " \n",
       "   JavaCharSet    CreateTime       ModTime  Global  Repeated  View SourceName  \\\n",
       " 0        UTF8  1.808147e+09  1.808147e+09       0         0     0              \n",
       " \n",
       "   SourceCaslib  Compressed Creator Modifier  \n",
       " 0                        0  lidong           \n",
       "\n",
       "+ Elapsed: 0.00502s, user: 0.009s, sys: 0.01s, mem: 0.462mb"
      ]
     },
     "execution_count": 6,
     "metadata": {},
     "output_type": "execute_result"
    }
   ],
   "source": [
    "casdata.tableinfo()"
   ]
  },
  {
   "cell_type": "markdown",
   "metadata": {},
   "source": [
    "### Estimator"
   ]
  },
  {
   "cell_type": "code",
   "execution_count": 7,
   "metadata": {
    "collapsed": false
   },
   "outputs": [],
   "source": [
    "from pipefitter.estimator import DecisionTree, DecisionForest, GBTree"
   ]
  },
  {
   "cell_type": "code",
   "execution_count": 8,
   "metadata": {
    "collapsed": true
   },
   "outputs": [],
   "source": [
    "params = dict(target='label', \n",
    "              inputs=[str(i) for i in range(50)])"
   ]
  },
  {
   "cell_type": "code",
   "execution_count": 9,
   "metadata": {
    "collapsed": false
   },
   "outputs": [
    {
     "data": {
      "text/plain": [
       "DecisionTree(alpha=0.0, cf_level=0.25, criterion=None, inputs=['0', '1', '2', '3', '4', '5', '6', '7', '8', '9', '10', '11', '12', '13', '14', '15', '16', '17', '18', '19', '20', '21', '22', '23', '24', '25', '26', '27', '28', '29', '30', '31', '32', '33', '34', '35', '36', '37', '38', '39', '40', '41', '42', '43', '44', '45', '46', '47', '48', '49'], leaf_size=5, max_branches=2, max_depth=6, n_bins=20, nominals=[], prune=False, target='label', var_importance=False)"
      ]
     },
     "execution_count": 9,
     "metadata": {},
     "output_type": "execute_result"
    }
   ],
   "source": [
    "dtree = DecisionTree(max_depth=6, **params)\n",
    "dtree"
   ]
  },
  {
   "cell_type": "markdown",
   "metadata": {},
   "source": [
    "#### Decision Tree Fit and Score of CAS Table"
   ]
  },
  {
   "cell_type": "code",
   "execution_count": 10,
   "metadata": {
    "collapsed": false
   },
   "outputs": [
    {
     "data": {
      "text/plain": [
       "DecisionTreeModel(alpha=0.0, cf_level=0.25, criterion=None, inputs=['0', '1', '2', '3', '4', '5', '6', '7', '8', '9', '10', '11', '12', '13', '14', '15', '16', '17', '18', '19', '20', '21', '22', '23', '24', '25', '26', '27', '28', '29', '30', '31', '32', '33', '34', '35', '36', '37', '38', '39', '40', '41', '42', '43', '44', '45', '46', '47', '48', '49'], leaf_size=5, max_branches=2, max_depth=6, n_bins=20, nominals=[], prune=False, target='label', var_importance=False)"
      ]
     },
     "execution_count": 10,
     "metadata": {},
     "output_type": "execute_result"
    }
   ],
   "source": [
    "model = dtree.fit(casdata)\n",
    "model"
   ]
  },
  {
   "cell_type": "code",
   "execution_count": 11,
   "metadata": {
    "collapsed": false
   },
   "outputs": [
    {
     "data": {
      "text/plain": [
       "{'backend': <module 'pipefitter.backends.cas' from '..\\\\pipefitter\\\\backends\\\\cas\\\\__init__.py'>,\n",
       " 'data': CASTable('kmodeltree1a65d23c_2bc7_483a_9333_c150fd760ab6', replace=True),\n",
       " 'diagnostics': [ModelInfo]\n",
       " \n",
       "  Decision Tree for CASDATA\n",
       "  \n",
       "                                  Descr        Value\n",
       "  0                Number of Tree Nodes    31.000000\n",
       "  1              Max Number of Branches     2.000000\n",
       "  2                    Number of Levels     6.000000\n",
       "  3                    Number of Leaves    16.000000\n",
       "  4                      Number of Bins    20.000000\n",
       "  5              Minimum Size of Leaves     5.000000\n",
       "  6              Maximum Size of Leaves   738.000000\n",
       "  7                 Number of Variables    50.000000\n",
       "  8   Alpha for Cost-Complexity Pruning     0.000000\n",
       "  9         Number of Observations Used  1000.000000\n",
       "  10              Maximum STD of Leaves     9.130072\n",
       "  11              Minimum STD of Leaves     2.687148\n",
       "  12                 Mean Squared Error    52.530324\n",
       " \n",
       " [OutputCasTables]\n",
       " \n",
       "                  casLib                                            Name  Rows  \\\n",
       "  0  CASUSERHDFS(lidong)  kmodeltree1a65d23c_2bc7_483a_9333_c150fd760ab6    31   \n",
       "  \n",
       "     Columns                                           casTable  \n",
       "  0       26  CASTable('kmodeltree1a65d23c_2bc7_483a_9333_c1...  \n",
       " \n",
       " + Elapsed: 0.061s, user: 0.163s, sys: 0.254s, mem: 21.2mb,\n",
       " 'params': {'max_branches': 2, 'alpha': 0.0, 'n_bins': 20, 'leaf_size': 5, 'criterion': None, 'prune': False, 'nominals': [], 'max_depth': 6, 'inputs': ['0', '1', '2', '3', '4', '5', '6', '7', '8', '9', '10', '11', '12', '13', '14', '15', '16', '17', '18', '19', '20', '21', '22', '23', '24', '25', '26', '27', '28', '29', '30', '31', '32', '33', '34', '35', '36', '37', '38', '39', '40', '41', '42', '43', '44', '45', '46', '47', '48', '49'], 'var_importance': False, 'target': 'label', 'cf_level': 0.25}}"
      ]
     },
     "execution_count": 11,
     "metadata": {},
     "output_type": "execute_result"
    }
   ],
   "source": [
    "vars(model)"
   ]
  },
  {
   "cell_type": "code",
   "execution_count": 12,
   "metadata": {
    "collapsed": false
   },
   "outputs": [
    {
     "data": {
      "text/plain": [
       "Target                                        label\n",
       "Level                                      INTERVAL\n",
       "Var                                   _DT_PredMean_\n",
       "NBins                                           100\n",
       "NObsUsed                                       1000\n",
       "TargetCount                                    1000\n",
       "TargetMiss                                        0\n",
       "PredCount                                      1000\n",
       "PredMiss                                          0\n",
       "AverageAbsoluteError                        5.80429\n",
       "AverageSquaredError                         52.5303\n",
       "AverageSquaredLogarithmicError             0.671168\n",
       "RootAverageAbsoluteError                    2.40921\n",
       "RootAverageSquaredError                     7.24778\n",
       "RootAverageSquaredLogarithmicError         0.819249\n",
       "dtype: object"
      ]
     },
     "execution_count": 12,
     "metadata": {},
     "output_type": "execute_result"
    }
   ],
   "source": [
    "score = model.score(casdata)\n",
    "score"
   ]
  },
  {
   "cell_type": "markdown",
   "metadata": {
    "collapsed": true
   },
   "source": [
    "### HyperParameter Tuning"
   ]
  },
  {
   "cell_type": "code",
   "execution_count": 15,
   "metadata": {
    "collapsed": true
   },
   "outputs": [],
   "source": [
    "from pipefitter.estimator import DecisionTree\n",
    "from pipefitter.model_selection import HyperParameterTuning"
   ]
  },
  {
   "cell_type": "code",
   "execution_count": 16,
   "metadata": {
    "collapsed": true
   },
   "outputs": [],
   "source": [
    "HyperParameterTuning?"
   ]
  },
  {
   "cell_type": "code",
   "execution_count": 17,
   "metadata": {
    "collapsed": true
   },
   "outputs": [],
   "source": [
    "param_grid = dict(\n",
    "    max_depth=[6, 10],\n",
    "    leaf_size=[3, 5],\n",
    ")"
   ]
  },
  {
   "cell_type": "code",
   "execution_count": 18,
   "metadata": {
    "collapsed": true
   },
   "outputs": [],
   "source": [
    "hpt = HyperParameterTuning(\n",
    "          estimator=DecisionTree(target='label', \n",
    "              inputs=[str(i) for i in range(50)]),\n",
    "          param_grid=param_grid, \n",
    "          cv=3)"
   ]
  },
  {
   "cell_type": "code",
   "execution_count": 20,
   "metadata": {
    "collapsed": false
   },
   "outputs": [
    {
     "name": "stderr",
     "output_type": "stream",
     "text": [
      "..\\pipefitter\\model_selection\\search.py:251: RuntimeWarning: Either the current backend does not support parallel execution or the data is not globally available; The grid search will be done sequentially.\n",
      "  RuntimeWarning)\n"
     ]
    },
    {
     "data": {
      "text/html": [
       "<div>\n",
       "<table border=\"1\" class=\"dataframe\">\n",
       "  <thead>\n",
       "    <tr style=\"text-align: right;\">\n",
       "      <th></th>\n",
       "      <th>MeanScore</th>\n",
       "      <th>ScoreStd</th>\n",
       "      <th>Parameters</th>\n",
       "      <th>FoldScores</th>\n",
       "      <th>MeanClockTime</th>\n",
       "    </tr>\n",
       "  </thead>\n",
       "  <tbody>\n",
       "    <tr>\n",
       "      <th>0</th>\n",
       "      <td>68.562686</td>\n",
       "      <td>6.454912</td>\n",
       "      <td>{'max_depth': 6, 'leaf_size': 3}</td>\n",
       "      <td>[75.91279927080157, 69.18340988973921, 60.1572...</td>\n",
       "      <td>0.000857</td>\n",
       "    </tr>\n",
       "    <tr>\n",
       "      <th>1</th>\n",
       "      <td>68.990775</td>\n",
       "      <td>7.217512</td>\n",
       "      <td>{'max_depth': 6, 'leaf_size': 5}</td>\n",
       "      <td>[76.77730926498194, 70.39630799355857, 59.3082...</td>\n",
       "      <td>0.000879</td>\n",
       "    </tr>\n",
       "    <tr>\n",
       "      <th>2</th>\n",
       "      <td>76.975283</td>\n",
       "      <td>7.868140</td>\n",
       "      <td>{'max_depth': 10, 'leaf_size': 5}</td>\n",
       "      <td>[85.76152912213294, 78.0260519203542, 66.60634...</td>\n",
       "      <td>0.000976</td>\n",
       "    </tr>\n",
       "    <tr>\n",
       "      <th>3</th>\n",
       "      <td>80.401381</td>\n",
       "      <td>9.309854</td>\n",
       "      <td>{'max_depth': 10, 'leaf_size': 3}</td>\n",
       "      <td>[91.14160258132087, 81.05204048259716, 68.3857...</td>\n",
       "      <td>0.000945</td>\n",
       "    </tr>\n",
       "  </tbody>\n",
       "</table>\n",
       "</div>"
      ],
      "text/plain": [
       "   MeanScore  ScoreStd                         Parameters  \\\n",
       "0  68.562686  6.454912   {'max_depth': 6, 'leaf_size': 3}   \n",
       "1  68.990775  7.217512   {'max_depth': 6, 'leaf_size': 5}   \n",
       "2  76.975283  7.868140  {'max_depth': 10, 'leaf_size': 5}   \n",
       "3  80.401381  9.309854  {'max_depth': 10, 'leaf_size': 3}   \n",
       "\n",
       "                                          FoldScores  MeanClockTime  \n",
       "0  [75.91279927080157, 69.18340988973921, 60.1572...       0.000857  \n",
       "1  [76.77730926498194, 70.39630799355857, 59.3082...       0.000879  \n",
       "2  [85.76152912213294, 78.0260519203542, 66.60634...       0.000976  \n",
       "3  [91.14160258132087, 81.05204048259716, 68.3857...       0.000945  "
      ]
     },
     "execution_count": 20,
     "metadata": {},
     "output_type": "execute_result"
    }
   ],
   "source": [
    "hpt.gridsearch(casdata, n_jobs=4)"
   ]
  },
  {
   "cell_type": "code",
   "execution_count": null,
   "metadata": {
    "collapsed": true
   },
   "outputs": [],
   "source": []
  }
 ],
 "metadata": {
  "kernelspec": {
   "display_name": "Python 3",
   "language": "python",
   "name": "python3"
  },
  "language_info": {
   "codemirror_mode": {
    "name": "ipython",
    "version": 3
   },
   "file_extension": ".py",
   "mimetype": "text/x-python",
   "name": "python",
   "nbconvert_exporter": "python",
   "pygments_lexer": "ipython3",
   "version": "3.5.2"
  }
 },
 "nbformat": 4,
 "nbformat_minor": 0
}
