{
 "cells": [
  {
   "cell_type": "markdown",
   "metadata": {},
   "source": [
    "### Regression Example for python pipefiiter\n",
    "\n",
    "This is an example to show how to solve regression problem by decision tree using python pipefitter. It involves grid search to do hyperparameter tuning"
   ]
  },
  {
   "cell_type": "code",
   "execution_count": 1,
   "metadata": {
    "collapsed": false
   },
   "outputs": [],
   "source": [
    "import swat\n",
    "import numpy as np\n",
    "import pandas as pd\n"
   ]
  },
  {
   "cell_type": "markdown",
   "metadata": {},
   "source": [
    "#### Generate Data\n",
    "\n",
    "Idea from Chapter 10 Boosting and Additive Trees, 'the elements of statistical learning', Trevor Hastie. Robert Tibshirani. Jerome Friedman"
   ]
  },
  {
   "cell_type": "code",
   "execution_count": 2,
   "metadata": {
    "collapsed": false
   },
   "outputs": [
    {
     "data": {
      "text/html": [
       "<div>\n",
       "<table border=\"1\" class=\"dataframe\">\n",
       "  <thead>\n",
       "    <tr style=\"text-align: right;\">\n",
       "      <th></th>\n",
       "      <th>a0</th>\n",
       "      <th>a1</th>\n",
       "      <th>a2</th>\n",
       "      <th>a3</th>\n",
       "      <th>a4</th>\n",
       "      <th>a5</th>\n",
       "      <th>a6</th>\n",
       "      <th>a7</th>\n",
       "      <th>a8</th>\n",
       "      <th>a9</th>\n",
       "      <th>...</th>\n",
       "      <th>a41</th>\n",
       "      <th>a42</th>\n",
       "      <th>a43</th>\n",
       "      <th>a44</th>\n",
       "      <th>a45</th>\n",
       "      <th>a46</th>\n",
       "      <th>a47</th>\n",
       "      <th>a48</th>\n",
       "      <th>a49</th>\n",
       "      <th>label</th>\n",
       "    </tr>\n",
       "  </thead>\n",
       "  <tbody>\n",
       "    <tr>\n",
       "      <th>0</th>\n",
       "      <td>-0.163868</td>\n",
       "      <td>0.551660</td>\n",
       "      <td>0.755243</td>\n",
       "      <td>0.453293</td>\n",
       "      <td>0.312177</td>\n",
       "      <td>-1.242281</td>\n",
       "      <td>-0.953866</td>\n",
       "      <td>-1.080950</td>\n",
       "      <td>0.768824</td>\n",
       "      <td>0.340052</td>\n",
       "      <td>...</td>\n",
       "      <td>0.264166</td>\n",
       "      <td>0.699456</td>\n",
       "      <td>-1.593044</td>\n",
       "      <td>-0.374007</td>\n",
       "      <td>-0.176346</td>\n",
       "      <td>1.086926</td>\n",
       "      <td>0.261823</td>\n",
       "      <td>0.420917</td>\n",
       "      <td>0.619162</td>\n",
       "      <td>2.611734</td>\n",
       "    </tr>\n",
       "    <tr>\n",
       "      <th>1</th>\n",
       "      <td>0.641373</td>\n",
       "      <td>0.089934</td>\n",
       "      <td>1.289161</td>\n",
       "      <td>-0.114076</td>\n",
       "      <td>0.760640</td>\n",
       "      <td>-0.423258</td>\n",
       "      <td>-0.267495</td>\n",
       "      <td>-0.676723</td>\n",
       "      <td>-0.428593</td>\n",
       "      <td>-1.400205</td>\n",
       "      <td>...</td>\n",
       "      <td>-0.450404</td>\n",
       "      <td>1.554618</td>\n",
       "      <td>0.023310</td>\n",
       "      <td>0.476761</td>\n",
       "      <td>0.273385</td>\n",
       "      <td>-1.785905</td>\n",
       "      <td>-2.270099</td>\n",
       "      <td>0.002988</td>\n",
       "      <td>-1.709381</td>\n",
       "      <td>2.754268</td>\n",
       "    </tr>\n",
       "    <tr>\n",
       "      <th>2</th>\n",
       "      <td>0.892209</td>\n",
       "      <td>-1.513641</td>\n",
       "      <td>1.506877</td>\n",
       "      <td>-0.563470</td>\n",
       "      <td>-1.632783</td>\n",
       "      <td>-0.129873</td>\n",
       "      <td>0.183244</td>\n",
       "      <td>1.474889</td>\n",
       "      <td>0.613299</td>\n",
       "      <td>0.268912</td>\n",
       "      <td>...</td>\n",
       "      <td>-0.356278</td>\n",
       "      <td>-0.553862</td>\n",
       "      <td>0.542841</td>\n",
       "      <td>-0.031553</td>\n",
       "      <td>0.197168</td>\n",
       "      <td>-0.419485</td>\n",
       "      <td>1.046704</td>\n",
       "      <td>0.458453</td>\n",
       "      <td>-0.299734</td>\n",
       "      <td>18.649774</td>\n",
       "    </tr>\n",
       "    <tr>\n",
       "      <th>3</th>\n",
       "      <td>-0.357151</td>\n",
       "      <td>-1.724089</td>\n",
       "      <td>-0.868914</td>\n",
       "      <td>0.124689</td>\n",
       "      <td>-0.808981</td>\n",
       "      <td>-0.546866</td>\n",
       "      <td>0.473728</td>\n",
       "      <td>0.497063</td>\n",
       "      <td>2.027501</td>\n",
       "      <td>-0.100640</td>\n",
       "      <td>...</td>\n",
       "      <td>0.819672</td>\n",
       "      <td>1.212975</td>\n",
       "      <td>-0.017733</td>\n",
       "      <td>-1.175640</td>\n",
       "      <td>-0.929942</td>\n",
       "      <td>0.915668</td>\n",
       "      <td>-0.493842</td>\n",
       "      <td>1.727418</td>\n",
       "      <td>-0.245242</td>\n",
       "      <td>9.659525</td>\n",
       "    </tr>\n",
       "    <tr>\n",
       "      <th>4</th>\n",
       "      <td>0.898753</td>\n",
       "      <td>0.523708</td>\n",
       "      <td>1.438855</td>\n",
       "      <td>-1.173597</td>\n",
       "      <td>0.512464</td>\n",
       "      <td>-0.783214</td>\n",
       "      <td>-0.427894</td>\n",
       "      <td>1.578074</td>\n",
       "      <td>0.356996</td>\n",
       "      <td>-1.200643</td>\n",
       "      <td>...</td>\n",
       "      <td>-0.710959</td>\n",
       "      <td>0.286052</td>\n",
       "      <td>0.085302</td>\n",
       "      <td>-0.916496</td>\n",
       "      <td>-0.144651</td>\n",
       "      <td>-1.589350</td>\n",
       "      <td>0.819149</td>\n",
       "      <td>1.039231</td>\n",
       "      <td>0.066407</td>\n",
       "      <td>10.332826</td>\n",
       "    </tr>\n",
       "  </tbody>\n",
       "</table>\n",
       "<p>5 rows × 51 columns</p>\n",
       "</div>"
      ],
      "text/plain": [
       "         a0        a1        a2        a3        a4        a5        a6  \\\n",
       "0 -0.163868  0.551660  0.755243  0.453293  0.312177 -1.242281 -0.953866   \n",
       "1  0.641373  0.089934  1.289161 -0.114076  0.760640 -0.423258 -0.267495   \n",
       "2  0.892209 -1.513641  1.506877 -0.563470 -1.632783 -0.129873  0.183244   \n",
       "3 -0.357151 -1.724089 -0.868914  0.124689 -0.808981 -0.546866  0.473728   \n",
       "4  0.898753  0.523708  1.438855 -1.173597  0.512464 -0.783214 -0.427894   \n",
       "\n",
       "         a7        a8        a9    ...           a41       a42       a43  \\\n",
       "0 -1.080950  0.768824  0.340052    ...      0.264166  0.699456 -1.593044   \n",
       "1 -0.676723 -0.428593 -1.400205    ...     -0.450404  1.554618  0.023310   \n",
       "2  1.474889  0.613299  0.268912    ...     -0.356278 -0.553862  0.542841   \n",
       "3  0.497063  2.027501 -0.100640    ...      0.819672  1.212975 -0.017733   \n",
       "4  1.578074  0.356996 -1.200643    ...     -0.710959  0.286052  0.085302   \n",
       "\n",
       "        a44       a45       a46       a47       a48       a49      label  \n",
       "0 -0.374007 -0.176346  1.086926  0.261823  0.420917  0.619162   2.611734  \n",
       "1  0.476761  0.273385 -1.785905 -2.270099  0.002988 -1.709381   2.754268  \n",
       "2 -0.031553  0.197168 -0.419485  1.046704  0.458453 -0.299734  18.649774  \n",
       "3 -1.175640 -0.929942  0.915668 -0.493842  1.727418 -0.245242   9.659525  \n",
       "4 -0.916496 -0.144651 -1.589350  0.819149  1.039231  0.066407  10.332826  \n",
       "\n",
       "[5 rows x 51 columns]"
      ]
     },
     "execution_count": 2,
     "metadata": {},
     "output_type": "execute_result"
    }
   ],
   "source": [
    "mu, sigma = 0, 1 # mean and standard deviation\n",
    "\n",
    "np.random.normal(mu, sigma, 10)\n",
    "\n",
    "allnumpys = list()\n",
    "for i in range(50):\n",
    "    st = np.random.normal(mu, sigma, 1000)\n",
    "    allnumpys.append(st)\n",
    "\n",
    "data = pd.DataFrame(allnumpys)\n",
    "\n",
    "data = data.transpose()\n",
    "\n",
    "data.columns=['a'+str(i) for i in range(50)]\n",
    "\n",
    "data['label']=1\n",
    "def f(x):\n",
    "    sumn=0\n",
    "    for i in range(10):\n",
    "        sumn = sumn + x['a'+str(i)]*x['a'+str(i)]+2*np.random.normal(0, 1, 1)\n",
    "    return sumn\n",
    "\n",
    "\n",
    "data['label']=data.apply(f, axis=1) \n",
    "data.head()"
   ]
  },
  {
   "cell_type": "markdown",
   "metadata": {},
   "source": [
    "## SAS Viya version"
   ]
  },
  {
   "cell_type": "markdown",
   "metadata": {},
   "source": [
    "### Create Connections and Load Data"
   ]
  },
  {
   "cell_type": "code",
   "execution_count": 3,
   "metadata": {
    "collapsed": false
   },
   "outputs": [
    {
     "name": "stdout",
     "output_type": "stream",
     "text": [
      "NOTE: Cloud Analytic Services made the uploaded file available as table TMPFY5Y_6HZ in caslib CASUSER(lidong).\n",
      "NOTE: The table TMPFY5Y_6HZ has been created in caslib CASUSER(lidong) from binary data uploaded to Cloud Analytic Services.\n"
     ]
    }
   ],
   "source": [
    "casconn = swat.CAS('sasserver.demo.sas.com', 5570, nworkers=1) \n",
    "casdata = casconn.upload_frame(data)"
   ]
  },
  {
   "cell_type": "markdown",
   "metadata": {},
   "source": [
    "Return first 5 rows of casdata"
   ]
  },
  {
   "cell_type": "code",
   "execution_count": 4,
   "metadata": {
    "collapsed": false
   },
   "outputs": [
    {
     "data": {
      "text/html": [
       "<div>\n",
       "<table border=\"1\" class=\"dataframe\"><caption>Selected Rows from Table TMPFY5Y_6HZ</caption>\n",
       "  <thead>\n",
       "    <tr style=\"text-align: right;\">\n",
       "      <th title=\"\"></th>\n",
       "      <th title=\"a0\">a0</th>\n",
       "      <th title=\"a1\">a1</th>\n",
       "      <th title=\"a2\">a2</th>\n",
       "      <th title=\"a3\">a3</th>\n",
       "      <th title=\"a4\">a4</th>\n",
       "      <th title=\"a5\">a5</th>\n",
       "      <th title=\"a6\">a6</th>\n",
       "      <th title=\"a7\">a7</th>\n",
       "      <th title=\"a8\">a8</th>\n",
       "      <th title=\"a9\">a9</th>\n",
       "      <th title=\"...\">...</th>\n",
       "      <th title=\"a41\">a41</th>\n",
       "      <th title=\"a42\">a42</th>\n",
       "      <th title=\"a43\">a43</th>\n",
       "      <th title=\"a44\">a44</th>\n",
       "      <th title=\"a45\">a45</th>\n",
       "      <th title=\"a46\">a46</th>\n",
       "      <th title=\"a47\">a47</th>\n",
       "      <th title=\"a48\">a48</th>\n",
       "      <th title=\"a49\">a49</th>\n",
       "      <th title=\"label\">label</th>\n",
       "    </tr>\n",
       "  </thead>\n",
       "  <tbody>\n",
       "    <tr>\n",
       "      <th>0</th>\n",
       "      <td>-0.163868</td>\n",
       "      <td>0.551660</td>\n",
       "      <td>0.755243</td>\n",
       "      <td>0.453293</td>\n",
       "      <td>0.312177</td>\n",
       "      <td>-1.242281</td>\n",
       "      <td>-0.953866</td>\n",
       "      <td>-1.080950</td>\n",
       "      <td>0.768824</td>\n",
       "      <td>0.340052</td>\n",
       "      <td>...</td>\n",
       "      <td>0.264166</td>\n",
       "      <td>0.699456</td>\n",
       "      <td>-1.593044</td>\n",
       "      <td>-0.374007</td>\n",
       "      <td>-0.176346</td>\n",
       "      <td>1.086926</td>\n",
       "      <td>0.261823</td>\n",
       "      <td>0.420917</td>\n",
       "      <td>0.619162</td>\n",
       "      <td>2.611734</td>\n",
       "    </tr>\n",
       "    <tr>\n",
       "      <th>1</th>\n",
       "      <td>0.641373</td>\n",
       "      <td>0.089934</td>\n",
       "      <td>1.289161</td>\n",
       "      <td>-0.114076</td>\n",
       "      <td>0.760640</td>\n",
       "      <td>-0.423258</td>\n",
       "      <td>-0.267495</td>\n",
       "      <td>-0.676723</td>\n",
       "      <td>-0.428593</td>\n",
       "      <td>-1.400205</td>\n",
       "      <td>...</td>\n",
       "      <td>-0.450404</td>\n",
       "      <td>1.554618</td>\n",
       "      <td>0.023310</td>\n",
       "      <td>0.476761</td>\n",
       "      <td>0.273385</td>\n",
       "      <td>-1.785905</td>\n",
       "      <td>-2.270099</td>\n",
       "      <td>0.002988</td>\n",
       "      <td>-1.709381</td>\n",
       "      <td>2.754268</td>\n",
       "    </tr>\n",
       "    <tr>\n",
       "      <th>2</th>\n",
       "      <td>0.892209</td>\n",
       "      <td>-1.513641</td>\n",
       "      <td>1.506877</td>\n",
       "      <td>-0.563470</td>\n",
       "      <td>-1.632783</td>\n",
       "      <td>-0.129873</td>\n",
       "      <td>0.183244</td>\n",
       "      <td>1.474889</td>\n",
       "      <td>0.613299</td>\n",
       "      <td>0.268912</td>\n",
       "      <td>...</td>\n",
       "      <td>-0.356278</td>\n",
       "      <td>-0.553862</td>\n",
       "      <td>0.542841</td>\n",
       "      <td>-0.031553</td>\n",
       "      <td>0.197168</td>\n",
       "      <td>-0.419485</td>\n",
       "      <td>1.046704</td>\n",
       "      <td>0.458453</td>\n",
       "      <td>-0.299734</td>\n",
       "      <td>18.649774</td>\n",
       "    </tr>\n",
       "    <tr>\n",
       "      <th>3</th>\n",
       "      <td>-0.357151</td>\n",
       "      <td>-1.724089</td>\n",
       "      <td>-0.868914</td>\n",
       "      <td>0.124689</td>\n",
       "      <td>-0.808981</td>\n",
       "      <td>-0.546866</td>\n",
       "      <td>0.473728</td>\n",
       "      <td>0.497063</td>\n",
       "      <td>2.027501</td>\n",
       "      <td>-0.100640</td>\n",
       "      <td>...</td>\n",
       "      <td>0.819672</td>\n",
       "      <td>1.212975</td>\n",
       "      <td>-0.017733</td>\n",
       "      <td>-1.175640</td>\n",
       "      <td>-0.929942</td>\n",
       "      <td>0.915668</td>\n",
       "      <td>-0.493842</td>\n",
       "      <td>1.727418</td>\n",
       "      <td>-0.245242</td>\n",
       "      <td>9.659525</td>\n",
       "    </tr>\n",
       "    <tr>\n",
       "      <th>4</th>\n",
       "      <td>0.898753</td>\n",
       "      <td>0.523708</td>\n",
       "      <td>1.438855</td>\n",
       "      <td>-1.173597</td>\n",
       "      <td>0.512464</td>\n",
       "      <td>-0.783214</td>\n",
       "      <td>-0.427894</td>\n",
       "      <td>1.578074</td>\n",
       "      <td>0.356996</td>\n",
       "      <td>-1.200643</td>\n",
       "      <td>...</td>\n",
       "      <td>-0.710959</td>\n",
       "      <td>0.286052</td>\n",
       "      <td>0.085302</td>\n",
       "      <td>-0.916496</td>\n",
       "      <td>-0.144651</td>\n",
       "      <td>-1.589350</td>\n",
       "      <td>0.819149</td>\n",
       "      <td>1.039231</td>\n",
       "      <td>0.066407</td>\n",
       "      <td>10.332826</td>\n",
       "    </tr>\n",
       "  </tbody>\n",
       "</table>\n",
       "<p>5 rows × 51 columns</p>\n",
       "</div>"
      ],
      "text/plain": [
       "Selected Rows from Table TMPFY5Y_6HZ\n",
       "\n",
       "         a0        a1        a2        a3        a4        a5        a6  \\\n",
       "0 -0.163868  0.551660  0.755243  0.453293  0.312177 -1.242281 -0.953866   \n",
       "1  0.641373  0.089934  1.289161 -0.114076  0.760640 -0.423258 -0.267495   \n",
       "2  0.892209 -1.513641  1.506877 -0.563470 -1.632783 -0.129873  0.183244   \n",
       "3 -0.357151 -1.724089 -0.868914  0.124689 -0.808981 -0.546866  0.473728   \n",
       "4  0.898753  0.523708  1.438855 -1.173597  0.512464 -0.783214 -0.427894   \n",
       "\n",
       "         a7        a8        a9    ...           a41       a42       a43  \\\n",
       "0 -1.080950  0.768824  0.340052    ...      0.264166  0.699456 -1.593044   \n",
       "1 -0.676723 -0.428593 -1.400205    ...     -0.450404  1.554618  0.023310   \n",
       "2  1.474889  0.613299  0.268912    ...     -0.356278 -0.553862  0.542841   \n",
       "3  0.497063  2.027501 -0.100640    ...      0.819672  1.212975 -0.017733   \n",
       "4  1.578074  0.356996 -1.200643    ...     -0.710959  0.286052  0.085302   \n",
       "\n",
       "        a44       a45       a46       a47       a48       a49      label  \n",
       "0 -0.374007 -0.176346  1.086926  0.261823  0.420917  0.619162   2.611734  \n",
       "1  0.476761  0.273385 -1.785905 -2.270099  0.002988 -1.709381   2.754268  \n",
       "2 -0.031553  0.197168 -0.419485  1.046704  0.458453 -0.299734  18.649774  \n",
       "3 -1.175640 -0.929942  0.915668 -0.493842  1.727418 -0.245242   9.659525  \n",
       "4 -0.916496 -0.144651 -1.589350  0.819149  1.039231  0.066407  10.332826  \n",
       "\n",
       "[5 rows x 51 columns]"
      ]
     },
     "execution_count": 4,
     "metadata": {},
     "output_type": "execute_result"
    }
   ],
   "source": [
    "casdata.head()"
   ]
  },
  {
   "cell_type": "markdown",
   "metadata": {},
   "source": [
    "show the information of the table such as create time, rows etc."
   ]
  },
  {
   "cell_type": "code",
   "execution_count": 5,
   "metadata": {
    "collapsed": false
   },
   "outputs": [
    {
     "data": {
      "text/html": [
       "<div class=\"cas-results-key\"><b>&#167; TableInfo</b></div>\n",
       "<div class=\"cas-results-body\">\n",
       "<div>\n",
       "<table border=\"1\" class=\"dataframe\">\n",
       "  <thead>\n",
       "    <tr style=\"text-align: right;\">\n",
       "      <th title=\"\"></th>\n",
       "      <th title=\"Name\">Name</th>\n",
       "      <th title=\"Rows\">Rows</th>\n",
       "      <th title=\"Columns\">Columns</th>\n",
       "      <th title=\"Encoding\">Encoding</th>\n",
       "      <th title=\"Created\">CreateTimeFormatted</th>\n",
       "      <th title=\"Last Modified\">ModTimeFormatted</th>\n",
       "      <th title=\"Character Set\">JavaCharSet</th>\n",
       "      <th title=\"CreateTime\">CreateTime</th>\n",
       "      <th title=\"ModTime\">ModTime</th>\n",
       "      <th title=\"Global\">Global</th>\n",
       "      <th title=\"Repeated\">Repeated</th>\n",
       "      <th title=\"View\">View</th>\n",
       "      <th title=\"Loaded Source\">SourceName</th>\n",
       "      <th title=\"Source Caslib\">SourceCaslib</th>\n",
       "      <th title=\"Compressed\">Compressed</th>\n",
       "      <th title=\"Table Creator\">Creator</th>\n",
       "      <th title=\"Last Table Modifier\">Modifier</th>\n",
       "    </tr>\n",
       "  </thead>\n",
       "  <tbody>\n",
       "    <tr>\n",
       "      <th>0</th>\n",
       "      <td>TMPFY5Y_6HZ</td>\n",
       "      <td>1000</td>\n",
       "      <td>51</td>\n",
       "      <td>utf-8</td>\n",
       "      <td>09May2017:15:26:28</td>\n",
       "      <td>09May2017:15:26:28</td>\n",
       "      <td>UTF8</td>\n",
       "      <td>1.809963e+09</td>\n",
       "      <td>1.809963e+09</td>\n",
       "      <td>0</td>\n",
       "      <td>0</td>\n",
       "      <td>0</td>\n",
       "      <td></td>\n",
       "      <td></td>\n",
       "      <td>0</td>\n",
       "      <td>lidong</td>\n",
       "      <td></td>\n",
       "    </tr>\n",
       "  </tbody>\n",
       "</table>\n",
       "</div>\n",
       "</div>\n",
       "<div class=\"cas-output-area\"></div>\n",
       "<p class=\"cas-results-performance\"><small><span class=\"cas-elapsed\">elapsed 0.000779s</span> &#183; <span class=\"cas-memory\">mem 0.209MB</span></small></p>"
      ],
      "text/plain": [
       "[TableInfo]\n",
       "\n",
       "           Name  Rows  Columns Encoding CreateTimeFormatted  \\\n",
       " 0  TMPFY5Y_6HZ  1000       51    utf-8  09May2017:15:26:28   \n",
       " \n",
       "      ModTimeFormatted JavaCharSet    CreateTime       ModTime  Global  \\\n",
       " 0  09May2017:15:26:28        UTF8  1.809963e+09  1.809963e+09       0   \n",
       " \n",
       "    Repeated  View SourceName SourceCaslib  Compressed Creator Modifier  \n",
       " 0         0     0                                   0  lidong           \n",
       "\n",
       "+ Elapsed: 0.000779s, mem: 0.209mb"
      ]
     },
     "execution_count": 5,
     "metadata": {},
     "output_type": "execute_result"
    }
   ],
   "source": [
    "casdata.tableinfo()"
   ]
  },
  {
   "cell_type": "markdown",
   "metadata": {},
   "source": [
    "### Estimator"
   ]
  },
  {
   "cell_type": "markdown",
   "metadata": {},
   "source": [
    "Import regression models: decision tree, random forest and gradient boosting tree"
   ]
  },
  {
   "cell_type": "code",
   "execution_count": 6,
   "metadata": {
    "collapsed": false
   },
   "outputs": [],
   "source": [
    "from pipefitter.estimator import DecisionTree, DecisionForest, GBTree"
   ]
  },
  {
   "cell_type": "markdown",
   "metadata": {},
   "source": [
    "Create a DecisionTree object. This object is the high-level object that has no knowledge of CAS or SAS."
   ]
  },
  {
   "cell_type": "code",
   "execution_count": 7,
   "metadata": {
    "collapsed": true
   },
   "outputs": [],
   "source": [
    "params = dict(target='label', \n",
    "              inputs=['a'+str(i) for i in range(50)])"
   ]
  },
  {
   "cell_type": "code",
   "execution_count": 8,
   "metadata": {
    "collapsed": false
   },
   "outputs": [
    {
     "data": {
      "text/plain": [
       "DecisionTree(alpha=0.0, cf_level=0.25, criterion=None, inputs=['a0', 'a1', 'a2', 'a3', 'a4', 'a5', 'a6', 'a7', 'a8', 'a9', 'a10', 'a11', 'a12', 'a13', 'a14', 'a15', 'a16', 'a17', 'a18', 'a19', 'a20', 'a21', 'a22', 'a23', 'a24', 'a25', 'a26', 'a27', 'a28', 'a29', 'a30', 'a31', 'a32', 'a33', 'a34', 'a35', 'a36', 'a37', 'a38', 'a39', 'a40', 'a41', 'a42', 'a43', 'a44', 'a45', 'a46', 'a47', 'a48', 'a49'], leaf_size=5, max_branches=2, max_depth=6, n_bins=20, nominals=[], prune=False, target='label', var_importance=False)"
      ]
     },
     "execution_count": 8,
     "metadata": {},
     "output_type": "execute_result"
    }
   ],
   "source": [
    "dtree = DecisionTree(max_depth=6, **params)\n",
    "dtree"
   ]
  },
  {
   "cell_type": "markdown",
   "metadata": {},
   "source": [
    "#### Decision Tree Fit and Score of CAS Table\n",
    "\n",
    "Using the `DecisionTree` instance, we'll first run the `fit` method on the data set.  This will return a model object."
   ]
  },
  {
   "cell_type": "code",
   "execution_count": 9,
   "metadata": {
    "collapsed": false
   },
   "outputs": [
    {
     "data": {
      "text/plain": [
       "DecisionTreeModel(alpha=0.0, cf_level=0.25, criterion=None, inputs=['a0', 'a1', 'a2', 'a3', 'a4', 'a5', 'a6', 'a7', 'a8', 'a9', 'a10', 'a11', 'a12', 'a13', 'a14', 'a15', 'a16', 'a17', 'a18', 'a19', 'a20', 'a21', 'a22', 'a23', 'a24', 'a25', 'a26', 'a27', 'a28', 'a29', 'a30', 'a31', 'a32', 'a33', 'a34', 'a35', 'a36', 'a37', 'a38', 'a39', 'a40', 'a41', 'a42', 'a43', 'a44', 'a45', 'a46', 'a47', 'a48', 'a49'], leaf_size=5, max_branches=2, max_depth=6, n_bins=20, nominals=[], prune=False, target='label', var_importance=False)"
      ]
     },
     "execution_count": 9,
     "metadata": {},
     "output_type": "execute_result"
    }
   ],
   "source": [
    "model = dtree.fit(casdata)\n",
    "model"
   ]
  },
  {
   "cell_type": "markdown",
   "metadata": {},
   "source": [
    "The ``score`` method can then be called on the resulting model object"
   ]
  },
  {
   "cell_type": "code",
   "execution_count": 10,
   "metadata": {
    "collapsed": false
   },
   "outputs": [
    {
     "data": {
      "text/plain": [
       "Target                                        label\n",
       "Level                                      INTERVAL\n",
       "Var                                   _DT_PredMean_\n",
       "NBins                                           100\n",
       "NObsUsed                                       1000\n",
       "TargetCount                                    1000\n",
       "TargetMiss                                        0\n",
       "PredCount                                      1000\n",
       "PredMiss                                          0\n",
       "AverageAbsoluteError                        5.76552\n",
       "AverageSquaredError                         52.6174\n",
       "AverageSquaredLogarithmicError             0.718349\n",
       "RootAverageAbsoluteError                    2.40115\n",
       "RootAverageSquaredError                     7.25378\n",
       "RootAverageSquaredLogarithmicError         0.847555\n",
       "dtype: object"
      ]
     },
     "execution_count": 10,
     "metadata": {},
     "output_type": "execute_result"
    }
   ],
   "source": [
    "score = model.score(casdata)\n",
    "score"
   ]
  },
  {
   "cell_type": "markdown",
   "metadata": {
    "collapsed": true
   },
   "source": [
    "### HyperParameter Tuning"
   ]
  },
  {
   "cell_type": "markdown",
   "metadata": {},
   "source": [
    "The hyper-parameter tuning classes allow you to test multiple sets of parameters across\n",
    "a set of estimators."
   ]
  },
  {
   "cell_type": "code",
   "execution_count": 11,
   "metadata": {
    "collapsed": true
   },
   "outputs": [],
   "source": [
    "from pipefitter.model_selection import HyperParameterTuning"
   ]
  },
  {
   "cell_type": "markdown",
   "metadata": {},
   "source": [
    "define parameter space"
   ]
  },
  {
   "cell_type": "code",
   "execution_count": 12,
   "metadata": {
    "collapsed": true
   },
   "outputs": [],
   "source": [
    "param_grid = dict(\n",
    "    max_depth=[6, 10],\n",
    "    leaf_size=[3, 5],\n",
    ")"
   ]
  },
  {
   "cell_type": "code",
   "execution_count": 13,
   "metadata": {
    "collapsed": true
   },
   "outputs": [],
   "source": [
    "hpt = HyperParameterTuning(\n",
    "          estimator=DecisionTree(target='label', \n",
    "              inputs=['a'+str(i) for i in range(50)]),\n",
    "          param_grid=param_grid, \n",
    "          cv=3)"
   ]
  },
  {
   "cell_type": "code",
   "execution_count": 14,
   "metadata": {
    "collapsed": false
   },
   "outputs": [
    {
     "data": {
      "text/html": [
       "<div>\n",
       "<table border=\"1\" class=\"dataframe\">\n",
       "  <thead>\n",
       "    <tr style=\"text-align: right;\">\n",
       "      <th></th>\n",
       "      <th>MeanScore</th>\n",
       "      <th>ScoreStd</th>\n",
       "      <th>Parameters</th>\n",
       "      <th>FoldScores</th>\n",
       "      <th>MeanClockTime</th>\n",
       "    </tr>\n",
       "  </thead>\n",
       "  <tbody>\n",
       "    <tr>\n",
       "      <th>0</th>\n",
       "      <td>69.806799</td>\n",
       "      <td>3.704812</td>\n",
       "      <td>{'leaf_size': 5, 'max_depth': 6}</td>\n",
       "      <td>[74.94611662324502, 66.49346708505026, 67.8597...</td>\n",
       "      <td>0.000346</td>\n",
       "    </tr>\n",
       "    <tr>\n",
       "      <th>1</th>\n",
       "      <td>70.835907</td>\n",
       "      <td>4.448506</td>\n",
       "      <td>{'leaf_size': 3, 'max_depth': 6}</td>\n",
       "      <td>[76.45918787273892, 70.38556283013965, 65.5875...</td>\n",
       "      <td>0.000383</td>\n",
       "    </tr>\n",
       "    <tr>\n",
       "      <th>2</th>\n",
       "      <td>73.822943</td>\n",
       "      <td>3.661347</td>\n",
       "      <td>{'leaf_size': 5, 'max_depth': 10}</td>\n",
       "      <td>[75.37561483948795, 68.72377631003239, 77.2592...</td>\n",
       "      <td>0.000495</td>\n",
       "    </tr>\n",
       "    <tr>\n",
       "      <th>3</th>\n",
       "      <td>80.267741</td>\n",
       "      <td>5.550547</td>\n",
       "      <td>{'leaf_size': 3, 'max_depth': 10}</td>\n",
       "      <td>[88.06205685853658, 76.2462445689743, 76.32933...</td>\n",
       "      <td>0.000493</td>\n",
       "    </tr>\n",
       "  </tbody>\n",
       "</table>\n",
       "</div>"
      ],
      "text/plain": [
       "   MeanScore  ScoreStd                         Parameters  \\\n",
       "0  69.806799  3.704812   {'leaf_size': 5, 'max_depth': 6}   \n",
       "1  70.835907  4.448506   {'leaf_size': 3, 'max_depth': 6}   \n",
       "2  73.822943  3.661347  {'leaf_size': 5, 'max_depth': 10}   \n",
       "3  80.267741  5.550547  {'leaf_size': 3, 'max_depth': 10}   \n",
       "\n",
       "                                          FoldScores  MeanClockTime  \n",
       "0  [74.94611662324502, 66.49346708505026, 67.8597...       0.000346  \n",
       "1  [76.45918787273892, 70.38556283013965, 65.5875...       0.000383  \n",
       "2  [75.37561483948795, 68.72377631003239, 77.2592...       0.000495  \n",
       "3  [88.06205685853658, 76.2462445689743, 76.32933...       0.000493  "
      ]
     },
     "execution_count": 14,
     "metadata": {},
     "output_type": "execute_result"
    }
   ],
   "source": [
    "hpt.gridsearch(casdata)"
   ]
  },
  {
   "cell_type": "markdown",
   "metadata": {
    "collapsed": true
   },
   "source": [
    "## SAS 9 Version"
   ]
  },
  {
   "cell_type": "markdown",
   "metadata": {},
   "source": [
    "### Open sas session and load sas data"
   ]
  },
  {
   "cell_type": "code",
   "execution_count": 15,
   "metadata": {
    "collapsed": false
   },
   "outputs": [
    {
     "name": "stdout",
     "output_type": "stream",
     "text": [
      "SAS Connection established. Subprocess id is 5555\n",
      "\n"
     ]
    }
   ],
   "source": [
    "import saspy\n",
    "sas = saspy.SASsession(cfgname='tdi')"
   ]
  },
  {
   "cell_type": "code",
   "execution_count": 16,
   "metadata": {
    "collapsed": false
   },
   "outputs": [],
   "source": [
    "sasdata = sas.dataframe2sasdata(data)"
   ]
  },
  {
   "cell_type": "code",
   "execution_count": 17,
   "metadata": {
    "collapsed": true
   },
   "outputs": [],
   "source": [
    "params = dict(target='label', \n",
    "              inputs=['a'+str(i) for i in range(50)])"
   ]
  },
  {
   "cell_type": "code",
   "execution_count": 18,
   "metadata": {
    "collapsed": false
   },
   "outputs": [
    {
     "data": {
      "text/plain": [
       "DecisionTree(alpha=0.0, cf_level=0.25, criterion=None, inputs=['a0', 'a1', 'a2', 'a3', 'a4', 'a5', 'a6', 'a7', 'a8', 'a9', 'a10', 'a11', 'a12', 'a13', 'a14', 'a15', 'a16', 'a17', 'a18', 'a19', 'a20', 'a21', 'a22', 'a23', 'a24', 'a25', 'a26', 'a27', 'a28', 'a29', 'a30', 'a31', 'a32', 'a33', 'a34', 'a35', 'a36', 'a37', 'a38', 'a39', 'a40', 'a41', 'a42', 'a43', 'a44', 'a45', 'a46', 'a47', 'a48', 'a49'], leaf_size=5, max_branches=2, max_depth=6, n_bins=20, nominals=[], prune=False, target='label', var_importance=False)"
      ]
     },
     "execution_count": 18,
     "metadata": {},
     "output_type": "execute_result"
    }
   ],
   "source": [
    "dtree = DecisionTree(max_depth=6, **params)\n",
    "dtree"
   ]
  },
  {
   "cell_type": "markdown",
   "metadata": {},
   "source": [
    "#### Decision Tree Fit and Score of SAS Table"
   ]
  },
  {
   "cell_type": "code",
   "execution_count": 19,
   "metadata": {
    "collapsed": false
   },
   "outputs": [
    {
     "data": {
      "text/plain": [
       "DecisionTreeModel(alpha=0.0, cf_level=0.25, criterion=None, inputs=['a0', 'a1', 'a2', 'a3', 'a4', 'a5', 'a6', 'a7', 'a8', 'a9', 'a10', 'a11', 'a12', 'a13', 'a14', 'a15', 'a16', 'a17', 'a18', 'a19', 'a20', 'a21', 'a22', 'a23', 'a24', 'a25', 'a26', 'a27', 'a28', 'a29', 'a30', 'a31', 'a32', 'a33', 'a34', 'a35', 'a36', 'a37', 'a38', 'a39', 'a40', 'a41', 'a42', 'a43', 'a44', 'a45', 'a46', 'a47', 'a48', 'a49'], leaf_size=5, max_branches=2, max_depth=6, n_bins=20, nominals=[], prune=False, target='label', var_importance=False)"
      ]
     },
     "execution_count": 19,
     "metadata": {},
     "output_type": "execute_result"
    }
   ],
   "source": [
    "model = dtree.fit(sasdata)\n",
    "model"
   ]
  },
  {
   "cell_type": "code",
   "execution_count": 20,
   "metadata": {
    "collapsed": false
   },
   "outputs": [
    {
     "data": {
      "text/plain": [
       "Target                               label\n",
       "Level                             INTERVAL\n",
       "Var                                P_label\n",
       "NBins                                  100\n",
       "NObsUsed                              1000\n",
       "TargetCount                           1000\n",
       "TargetMiss                               0\n",
       "PredCount                             1000\n",
       "PredMiss                                 0\n",
       "SumSquaredError                    47997.6\n",
       "Divsor                                1000\n",
       "AverageSquaredError                47.9976\n",
       "RootAverageSquaredError            6.92803\n",
       "MeanPredictionValue                10.1566\n",
       "StandardDeviationPrediction        3.95756\n",
       "CoefficientVariationPrediction    0.389654\n",
       "dtype: object"
      ]
     },
     "execution_count": 20,
     "metadata": {},
     "output_type": "execute_result"
    }
   ],
   "source": [
    "score = model.score(sasdata)\n",
    "score"
   ]
  },
  {
   "cell_type": "markdown",
   "metadata": {},
   "source": [
    "### HyperParameter Tuning"
   ]
  },
  {
   "cell_type": "code",
   "execution_count": 21,
   "metadata": {
    "collapsed": true
   },
   "outputs": [],
   "source": [
    "param_grid = dict(\n",
    "    max_depth=[6, 10],\n",
    "    leaf_size=[3, 5],\n",
    ")"
   ]
  },
  {
   "cell_type": "code",
   "execution_count": 22,
   "metadata": {
    "collapsed": true
   },
   "outputs": [],
   "source": [
    "hpt = HyperParameterTuning(\n",
    "          estimator=DecisionTree(target='label', \n",
    "              inputs=['a'+str(i) for i in range(50)]),\n",
    "          param_grid=param_grid, \n",
    "          cv=3)"
   ]
  },
  {
   "cell_type": "code",
   "execution_count": 23,
   "metadata": {
    "collapsed": false
   },
   "outputs": [
    {
     "data": {
      "text/html": [
       "<div>\n",
       "<table border=\"1\" class=\"dataframe\">\n",
       "  <thead>\n",
       "    <tr style=\"text-align: right;\">\n",
       "      <th></th>\n",
       "      <th>MeanScore</th>\n",
       "      <th>ScoreStd</th>\n",
       "      <th>Parameters</th>\n",
       "      <th>FoldScores</th>\n",
       "      <th>MeanClockTime</th>\n",
       "    </tr>\n",
       "  </thead>\n",
       "  <tbody>\n",
       "    <tr>\n",
       "      <th>0</th>\n",
       "      <td>68.404924</td>\n",
       "      <td>4.419822</td>\n",
       "      <td>{'leaf_size': 3, 'max_depth': 6}</td>\n",
       "      <td>[72.4244376641314, 70.54062996103379, 62.24970...</td>\n",
       "      <td>0.016511</td>\n",
       "    </tr>\n",
       "    <tr>\n",
       "      <th>1</th>\n",
       "      <td>68.404924</td>\n",
       "      <td>4.419822</td>\n",
       "      <td>{'leaf_size': 5, 'max_depth': 6}</td>\n",
       "      <td>[72.4244376641314, 70.54062996103379, 62.24970...</td>\n",
       "      <td>0.009058</td>\n",
       "    </tr>\n",
       "    <tr>\n",
       "      <th>2</th>\n",
       "      <td>78.772970</td>\n",
       "      <td>9.506403</td>\n",
       "      <td>{'leaf_size': 3, 'max_depth': 10}</td>\n",
       "      <td>[77.52525571760691, 90.9894958658754, 67.80415...</td>\n",
       "      <td>0.008474</td>\n",
       "    </tr>\n",
       "    <tr>\n",
       "      <th>3</th>\n",
       "      <td>78.772970</td>\n",
       "      <td>9.506403</td>\n",
       "      <td>{'leaf_size': 5, 'max_depth': 10}</td>\n",
       "      <td>[77.52525571760691, 90.9894958658754, 67.80415...</td>\n",
       "      <td>0.019093</td>\n",
       "    </tr>\n",
       "  </tbody>\n",
       "</table>\n",
       "</div>"
      ],
      "text/plain": [
       "   MeanScore  ScoreStd                         Parameters  \\\n",
       "0  68.404924  4.419822   {'leaf_size': 3, 'max_depth': 6}   \n",
       "1  68.404924  4.419822   {'leaf_size': 5, 'max_depth': 6}   \n",
       "2  78.772970  9.506403  {'leaf_size': 3, 'max_depth': 10}   \n",
       "3  78.772970  9.506403  {'leaf_size': 5, 'max_depth': 10}   \n",
       "\n",
       "                                          FoldScores  MeanClockTime  \n",
       "0  [72.4244376641314, 70.54062996103379, 62.24970...       0.016511  \n",
       "1  [72.4244376641314, 70.54062996103379, 62.24970...       0.009058  \n",
       "2  [77.52525571760691, 90.9894958658754, 67.80415...       0.008474  \n",
       "3  [77.52525571760691, 90.9894958658754, 67.80415...       0.019093  "
      ]
     },
     "execution_count": 23,
     "metadata": {},
     "output_type": "execute_result"
    }
   ],
   "source": [
    "hpt.gridsearch(sasdata)"
   ]
  },
  {
   "cell_type": "code",
   "execution_count": null,
   "metadata": {
    "collapsed": true
   },
   "outputs": [],
   "source": []
  }
 ],
 "metadata": {
  "kernelspec": {
   "display_name": "Python 3",
   "language": "python",
   "name": "python3"
  },
  "language_info": {
   "codemirror_mode": {
    "name": "ipython",
    "version": 3
   },
   "file_extension": ".py",
   "mimetype": "text/x-python",
   "name": "python",
   "nbconvert_exporter": "python",
   "pygments_lexer": "ipython3",
   "version": "3.4.5"
  }
 },
 "nbformat": 4,
 "nbformat_minor": 0
}
