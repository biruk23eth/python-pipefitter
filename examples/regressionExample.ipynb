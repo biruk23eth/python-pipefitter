{
 "cells": [
  {
   "cell_type": "markdown",
   "metadata": {},
   "source": [
    "### Regression Example for python pipefiiter\n",
    "\n",
    "This is an example to show how to solve regression problem by decision tree using python pipefitter. It involves grid search to do hyperparameter tuning"
   ]
  },
  {
   "cell_type": "code",
   "execution_count": 1,
   "metadata": {
    "collapsed": false
   },
   "outputs": [],
   "source": [
    "import swat\n",
    "import numpy as np\n",
    "import pandas as pd"
   ]
  },
  {
   "cell_type": "markdown",
   "metadata": {},
   "source": [
    "#### Generate Data\n",
    "\n",
    "Idea from Chapter 10 Boosting and Additive Trees, 'the elements of statistical learning', Trevor Hastie. Robert Tibshirani. Jerome Friedman"
   ]
  },
  {
   "cell_type": "code",
   "execution_count": 2,
   "metadata": {
    "collapsed": false
   },
   "outputs": [
    {
     "data": {
      "text/html": [
       "<div>\n",
       "<table border=\"1\" class=\"dataframe\">\n",
       "  <thead>\n",
       "    <tr style=\"text-align: right;\">\n",
       "      <th></th>\n",
       "      <th>0</th>\n",
       "      <th>1</th>\n",
       "      <th>2</th>\n",
       "      <th>3</th>\n",
       "      <th>4</th>\n",
       "      <th>5</th>\n",
       "      <th>6</th>\n",
       "      <th>7</th>\n",
       "      <th>8</th>\n",
       "      <th>9</th>\n",
       "      <th>...</th>\n",
       "      <th>41</th>\n",
       "      <th>42</th>\n",
       "      <th>43</th>\n",
       "      <th>44</th>\n",
       "      <th>45</th>\n",
       "      <th>46</th>\n",
       "      <th>47</th>\n",
       "      <th>48</th>\n",
       "      <th>49</th>\n",
       "      <th>label</th>\n",
       "    </tr>\n",
       "  </thead>\n",
       "  <tbody>\n",
       "    <tr>\n",
       "      <th>0</th>\n",
       "      <td>1.026961</td>\n",
       "      <td>-1.460769</td>\n",
       "      <td>-0.599474</td>\n",
       "      <td>0.631775</td>\n",
       "      <td>-0.924325</td>\n",
       "      <td>-0.929645</td>\n",
       "      <td>-0.450401</td>\n",
       "      <td>0.541806</td>\n",
       "      <td>1.097178</td>\n",
       "      <td>-0.179979</td>\n",
       "      <td>...</td>\n",
       "      <td>0.336655</td>\n",
       "      <td>1.020102</td>\n",
       "      <td>0.829641</td>\n",
       "      <td>0.671955</td>\n",
       "      <td>-0.111027</td>\n",
       "      <td>0.689708</td>\n",
       "      <td>-0.807005</td>\n",
       "      <td>1.762734</td>\n",
       "      <td>-0.831250</td>\n",
       "      <td>12.396742</td>\n",
       "    </tr>\n",
       "    <tr>\n",
       "      <th>1</th>\n",
       "      <td>0.849867</td>\n",
       "      <td>-0.675181</td>\n",
       "      <td>0.190271</td>\n",
       "      <td>-0.217543</td>\n",
       "      <td>1.091228</td>\n",
       "      <td>-0.322843</td>\n",
       "      <td>-0.148746</td>\n",
       "      <td>-0.666014</td>\n",
       "      <td>-0.089191</td>\n",
       "      <td>-0.679919</td>\n",
       "      <td>...</td>\n",
       "      <td>-0.015966</td>\n",
       "      <td>-0.257987</td>\n",
       "      <td>0.137701</td>\n",
       "      <td>1.553995</td>\n",
       "      <td>-0.281952</td>\n",
       "      <td>-1.217915</td>\n",
       "      <td>0.505365</td>\n",
       "      <td>0.710981</td>\n",
       "      <td>-0.785675</td>\n",
       "      <td>-3.814570</td>\n",
       "    </tr>\n",
       "    <tr>\n",
       "      <th>2</th>\n",
       "      <td>0.654742</td>\n",
       "      <td>0.730339</td>\n",
       "      <td>1.072677</td>\n",
       "      <td>0.524776</td>\n",
       "      <td>-0.908372</td>\n",
       "      <td>0.149268</td>\n",
       "      <td>1.105778</td>\n",
       "      <td>-2.048720</td>\n",
       "      <td>1.486944</td>\n",
       "      <td>2.030780</td>\n",
       "      <td>...</td>\n",
       "      <td>0.642224</td>\n",
       "      <td>-0.826536</td>\n",
       "      <td>-0.628561</td>\n",
       "      <td>-2.489720</td>\n",
       "      <td>-0.726688</td>\n",
       "      <td>0.220639</td>\n",
       "      <td>-0.273145</td>\n",
       "      <td>1.522935</td>\n",
       "      <td>0.203334</td>\n",
       "      <td>13.053647</td>\n",
       "    </tr>\n",
       "    <tr>\n",
       "      <th>3</th>\n",
       "      <td>-0.264717</td>\n",
       "      <td>0.716824</td>\n",
       "      <td>-0.054386</td>\n",
       "      <td>0.508544</td>\n",
       "      <td>1.760732</td>\n",
       "      <td>0.579096</td>\n",
       "      <td>-0.104291</td>\n",
       "      <td>-0.845910</td>\n",
       "      <td>-0.123437</td>\n",
       "      <td>-0.670075</td>\n",
       "      <td>...</td>\n",
       "      <td>-0.179121</td>\n",
       "      <td>0.169972</td>\n",
       "      <td>-0.832509</td>\n",
       "      <td>0.839313</td>\n",
       "      <td>1.815583</td>\n",
       "      <td>-1.087448</td>\n",
       "      <td>-0.946224</td>\n",
       "      <td>0.387775</td>\n",
       "      <td>0.740499</td>\n",
       "      <td>13.246403</td>\n",
       "    </tr>\n",
       "    <tr>\n",
       "      <th>4</th>\n",
       "      <td>-1.278897</td>\n",
       "      <td>-0.279804</td>\n",
       "      <td>1.543342</td>\n",
       "      <td>-0.327045</td>\n",
       "      <td>2.276871</td>\n",
       "      <td>0.641600</td>\n",
       "      <td>-1.158023</td>\n",
       "      <td>-0.457537</td>\n",
       "      <td>-1.973937</td>\n",
       "      <td>0.478836</td>\n",
       "      <td>...</td>\n",
       "      <td>0.374458</td>\n",
       "      <td>0.143975</td>\n",
       "      <td>-0.279526</td>\n",
       "      <td>-0.056836</td>\n",
       "      <td>-3.221961</td>\n",
       "      <td>1.188831</td>\n",
       "      <td>1.112162</td>\n",
       "      <td>1.361132</td>\n",
       "      <td>-0.065893</td>\n",
       "      <td>9.743054</td>\n",
       "    </tr>\n",
       "  </tbody>\n",
       "</table>\n",
       "<p>5 rows × 51 columns</p>\n",
       "</div>"
      ],
      "text/plain": [
       "          0         1         2         3         4         5         6  \\\n",
       "0  1.026961 -1.460769 -0.599474  0.631775 -0.924325 -0.929645 -0.450401   \n",
       "1  0.849867 -0.675181  0.190271 -0.217543  1.091228 -0.322843 -0.148746   \n",
       "2  0.654742  0.730339  1.072677  0.524776 -0.908372  0.149268  1.105778   \n",
       "3 -0.264717  0.716824 -0.054386  0.508544  1.760732  0.579096 -0.104291   \n",
       "4 -1.278897 -0.279804  1.543342 -0.327045  2.276871  0.641600 -1.158023   \n",
       "\n",
       "          7         8         9    ...            41        42        43  \\\n",
       "0  0.541806  1.097178 -0.179979    ...      0.336655  1.020102  0.829641   \n",
       "1 -0.666014 -0.089191 -0.679919    ...     -0.015966 -0.257987  0.137701   \n",
       "2 -2.048720  1.486944  2.030780    ...      0.642224 -0.826536 -0.628561   \n",
       "3 -0.845910 -0.123437 -0.670075    ...     -0.179121  0.169972 -0.832509   \n",
       "4 -0.457537 -1.973937  0.478836    ...      0.374458  0.143975 -0.279526   \n",
       "\n",
       "         44        45        46        47        48        49      label  \n",
       "0  0.671955 -0.111027  0.689708 -0.807005  1.762734 -0.831250  12.396742  \n",
       "1  1.553995 -0.281952 -1.217915  0.505365  0.710981 -0.785675  -3.814570  \n",
       "2 -2.489720 -0.726688  0.220639 -0.273145  1.522935  0.203334  13.053647  \n",
       "3  0.839313  1.815583 -1.087448 -0.946224  0.387775  0.740499  13.246403  \n",
       "4 -0.056836 -3.221961  1.188831  1.112162  1.361132 -0.065893   9.743054  \n",
       "\n",
       "[5 rows x 51 columns]"
      ]
     },
     "execution_count": 2,
     "metadata": {},
     "output_type": "execute_result"
    }
   ],
   "source": [
    "mu, sigma = 0, 1 # mean and standard deviation\n",
    "\n",
    "np.random.normal(mu, sigma, 10)\n",
    "\n",
    "allnumpys = list()\n",
    "for i in range(50):\n",
    "    st = np.random.normal(mu, sigma, 1000)\n",
    "    allnumpys.append(st)\n",
    "\n",
    "data = pd.DataFrame(allnumpys)\n",
    "\n",
    "data = data.transpose()\n",
    "\n",
    "data['label']=1\n",
    "\n",
    "def f(x):\n",
    "    sumn=0\n",
    "    for i in range(10):\n",
    "        sumn = sumn + x[i]*x[i]+2*np.random.normal(0, 1, 1)\n",
    "    return sumn\n",
    "\n",
    "data['label']=data.apply(f, axis=1) \n",
    "data.head()"
   ]
  },
  {
   "cell_type": "markdown",
   "metadata": {},
   "source": [
    "## SAS Viya version"
   ]
  },
  {
   "cell_type": "markdown",
   "metadata": {},
   "source": [
    "### Create Connections and Load Data"
   ]
  },
  {
   "cell_type": "code",
   "execution_count": 3,
   "metadata": {
    "collapsed": false
   },
   "outputs": [
    {
     "name": "stdout",
     "output_type": "stream",
     "text": [
      "NOTE: Cloud Analytic Services made the uploaded file available as table TMPHM87RBQD in caslib CASUSERHDFS(lidong).\n",
      "NOTE: The table TMPHM87RBQD has been created in caslib CASUSERHDFS(lidong) from binary data uploaded to Cloud Analytic Services.\n"
     ]
    }
   ],
   "source": [
    "casconn = swat.CAS('sasserver.demo.sas.com', 5570, nworkers=1) \n",
    "casdata = casconn.upload_frame(data)"
   ]
  },
  {
   "cell_type": "markdown",
   "metadata": {},
   "source": [
    "Return first 5 rows of casdata"
   ]
  },
  {
   "cell_type": "code",
   "execution_count": 4,
   "metadata": {
    "collapsed": false
   },
   "outputs": [
    {
     "data": {
      "text/html": [
       "<div>\n",
       "<table border=\"1\" class=\"dataframe\"><caption>Selected Rows from Table TMPHM87RBQD</caption>\n",
       "  <thead>\n",
       "    <tr style=\"text-align: right;\">\n",
       "      <th title=\"\"></th>\n",
       "      <th title=\"0\">0</th>\n",
       "      <th title=\"1\">1</th>\n",
       "      <th title=\"2\">2</th>\n",
       "      <th title=\"3\">3</th>\n",
       "      <th title=\"4\">4</th>\n",
       "      <th title=\"5\">5</th>\n",
       "      <th title=\"6\">6</th>\n",
       "      <th title=\"7\">7</th>\n",
       "      <th title=\"8\">8</th>\n",
       "      <th title=\"9\">9</th>\n",
       "      <th title=\"...\">...</th>\n",
       "      <th title=\"41\">41</th>\n",
       "      <th title=\"42\">42</th>\n",
       "      <th title=\"43\">43</th>\n",
       "      <th title=\"44\">44</th>\n",
       "      <th title=\"45\">45</th>\n",
       "      <th title=\"46\">46</th>\n",
       "      <th title=\"47\">47</th>\n",
       "      <th title=\"48\">48</th>\n",
       "      <th title=\"49\">49</th>\n",
       "      <th title=\"label\">label</th>\n",
       "    </tr>\n",
       "  </thead>\n",
       "  <tbody>\n",
       "    <tr>\n",
       "      <th>0</th>\n",
       "      <td>1.026961</td>\n",
       "      <td>-1.460769</td>\n",
       "      <td>-0.599474</td>\n",
       "      <td>0.631775</td>\n",
       "      <td>-0.924325</td>\n",
       "      <td>-0.929645</td>\n",
       "      <td>-0.450401</td>\n",
       "      <td>0.541806</td>\n",
       "      <td>1.097178</td>\n",
       "      <td>-0.179979</td>\n",
       "      <td>...</td>\n",
       "      <td>0.336655</td>\n",
       "      <td>1.020102</td>\n",
       "      <td>0.829641</td>\n",
       "      <td>0.671955</td>\n",
       "      <td>-0.111027</td>\n",
       "      <td>0.689708</td>\n",
       "      <td>-0.807005</td>\n",
       "      <td>1.762734</td>\n",
       "      <td>-0.831250</td>\n",
       "      <td>12.396742</td>\n",
       "    </tr>\n",
       "    <tr>\n",
       "      <th>1</th>\n",
       "      <td>0.849867</td>\n",
       "      <td>-0.675181</td>\n",
       "      <td>0.190271</td>\n",
       "      <td>-0.217543</td>\n",
       "      <td>1.091228</td>\n",
       "      <td>-0.322843</td>\n",
       "      <td>-0.148746</td>\n",
       "      <td>-0.666014</td>\n",
       "      <td>-0.089191</td>\n",
       "      <td>-0.679919</td>\n",
       "      <td>...</td>\n",
       "      <td>-0.015966</td>\n",
       "      <td>-0.257987</td>\n",
       "      <td>0.137701</td>\n",
       "      <td>1.553995</td>\n",
       "      <td>-0.281952</td>\n",
       "      <td>-1.217915</td>\n",
       "      <td>0.505365</td>\n",
       "      <td>0.710981</td>\n",
       "      <td>-0.785675</td>\n",
       "      <td>-3.814570</td>\n",
       "    </tr>\n",
       "    <tr>\n",
       "      <th>2</th>\n",
       "      <td>0.654742</td>\n",
       "      <td>0.730339</td>\n",
       "      <td>1.072677</td>\n",
       "      <td>0.524776</td>\n",
       "      <td>-0.908372</td>\n",
       "      <td>0.149268</td>\n",
       "      <td>1.105778</td>\n",
       "      <td>-2.048720</td>\n",
       "      <td>1.486944</td>\n",
       "      <td>2.030780</td>\n",
       "      <td>...</td>\n",
       "      <td>0.642224</td>\n",
       "      <td>-0.826536</td>\n",
       "      <td>-0.628561</td>\n",
       "      <td>-2.489720</td>\n",
       "      <td>-0.726688</td>\n",
       "      <td>0.220639</td>\n",
       "      <td>-0.273145</td>\n",
       "      <td>1.522935</td>\n",
       "      <td>0.203334</td>\n",
       "      <td>13.053647</td>\n",
       "    </tr>\n",
       "    <tr>\n",
       "      <th>3</th>\n",
       "      <td>-0.264717</td>\n",
       "      <td>0.716824</td>\n",
       "      <td>-0.054386</td>\n",
       "      <td>0.508544</td>\n",
       "      <td>1.760732</td>\n",
       "      <td>0.579096</td>\n",
       "      <td>-0.104291</td>\n",
       "      <td>-0.845910</td>\n",
       "      <td>-0.123437</td>\n",
       "      <td>-0.670075</td>\n",
       "      <td>...</td>\n",
       "      <td>-0.179121</td>\n",
       "      <td>0.169972</td>\n",
       "      <td>-0.832509</td>\n",
       "      <td>0.839313</td>\n",
       "      <td>1.815583</td>\n",
       "      <td>-1.087448</td>\n",
       "      <td>-0.946224</td>\n",
       "      <td>0.387775</td>\n",
       "      <td>0.740499</td>\n",
       "      <td>13.246403</td>\n",
       "    </tr>\n",
       "    <tr>\n",
       "      <th>4</th>\n",
       "      <td>-1.278897</td>\n",
       "      <td>-0.279804</td>\n",
       "      <td>1.543342</td>\n",
       "      <td>-0.327045</td>\n",
       "      <td>2.276871</td>\n",
       "      <td>0.641600</td>\n",
       "      <td>-1.158023</td>\n",
       "      <td>-0.457537</td>\n",
       "      <td>-1.973937</td>\n",
       "      <td>0.478836</td>\n",
       "      <td>...</td>\n",
       "      <td>0.374458</td>\n",
       "      <td>0.143975</td>\n",
       "      <td>-0.279526</td>\n",
       "      <td>-0.056836</td>\n",
       "      <td>-3.221961</td>\n",
       "      <td>1.188831</td>\n",
       "      <td>1.112162</td>\n",
       "      <td>1.361132</td>\n",
       "      <td>-0.065893</td>\n",
       "      <td>9.743054</td>\n",
       "    </tr>\n",
       "  </tbody>\n",
       "</table>\n",
       "<p>5 rows × 51 columns</p>\n",
       "</div>"
      ],
      "text/plain": [
       "Selected Rows from Table TMPHM87RBQD\n",
       "\n",
       "          0         1         2         3         4         5         6  \\\n",
       "0  1.026961 -1.460769 -0.599474  0.631775 -0.924325 -0.929645 -0.450401   \n",
       "1  0.849867 -0.675181  0.190271 -0.217543  1.091228 -0.322843 -0.148746   \n",
       "2  0.654742  0.730339  1.072677  0.524776 -0.908372  0.149268  1.105778   \n",
       "3 -0.264717  0.716824 -0.054386  0.508544  1.760732  0.579096 -0.104291   \n",
       "4 -1.278897 -0.279804  1.543342 -0.327045  2.276871  0.641600 -1.158023   \n",
       "\n",
       "          7         8         9    ...            41        42        43  \\\n",
       "0  0.541806  1.097178 -0.179979    ...      0.336655  1.020102  0.829641   \n",
       "1 -0.666014 -0.089191 -0.679919    ...     -0.015966 -0.257987  0.137701   \n",
       "2 -2.048720  1.486944  2.030780    ...      0.642224 -0.826536 -0.628561   \n",
       "3 -0.845910 -0.123437 -0.670075    ...     -0.179121  0.169972 -0.832509   \n",
       "4 -0.457537 -1.973937  0.478836    ...      0.374458  0.143975 -0.279526   \n",
       "\n",
       "         44        45        46        47        48        49      label  \n",
       "0  0.671955 -0.111027  0.689708 -0.807005  1.762734 -0.831250  12.396742  \n",
       "1  1.553995 -0.281952 -1.217915  0.505365  0.710981 -0.785675  -3.814570  \n",
       "2 -2.489720 -0.726688  0.220639 -0.273145  1.522935  0.203334  13.053647  \n",
       "3  0.839313  1.815583 -1.087448 -0.946224  0.387775  0.740499  13.246403  \n",
       "4 -0.056836 -3.221961  1.188831  1.112162  1.361132 -0.065893   9.743054  \n",
       "\n",
       "[5 rows x 51 columns]"
      ]
     },
     "execution_count": 4,
     "metadata": {},
     "output_type": "execute_result"
    }
   ],
   "source": [
    "casdata.head()"
   ]
  },
  {
   "cell_type": "markdown",
   "metadata": {},
   "source": [
    "show the information of the table such as create time, rows etc."
   ]
  },
  {
   "cell_type": "code",
   "execution_count": 5,
   "metadata": {
    "collapsed": false
   },
   "outputs": [
    {
     "data": {
      "text/html": [
       "<div class=\"cas-results-key\"><b>&#167; TableInfo</b></div>\n",
       "<div class=\"cas-results-body\">\n",
       "<div>\n",
       "<table border=\"1\" class=\"dataframe\">\n",
       "  <thead>\n",
       "    <tr style=\"text-align: right;\">\n",
       "      <th title=\"\"></th>\n",
       "      <th title=\"Name\">Name</th>\n",
       "      <th title=\"Rows\">Rows</th>\n",
       "      <th title=\"Columns\">Columns</th>\n",
       "      <th title=\"Encoding\">Encoding</th>\n",
       "      <th title=\"Created\">CreateTimeFormatted</th>\n",
       "      <th title=\"Last Modified\">ModTimeFormatted</th>\n",
       "      <th title=\"Character Set\">JavaCharSet</th>\n",
       "      <th title=\"CreateTime\">CreateTime</th>\n",
       "      <th title=\"ModTime\">ModTime</th>\n",
       "      <th title=\"Global\">Global</th>\n",
       "      <th title=\"Repeated\">Repeated</th>\n",
       "      <th title=\"View\">View</th>\n",
       "      <th title=\"Loaded Source\">SourceName</th>\n",
       "      <th title=\"Source Caslib\">SourceCaslib</th>\n",
       "      <th title=\"Compressed\">Compressed</th>\n",
       "      <th title=\"Table Creator\">Creator</th>\n",
       "      <th title=\"Last Table Modifier\">Modifier</th>\n",
       "    </tr>\n",
       "  </thead>\n",
       "  <tbody>\n",
       "    <tr>\n",
       "      <th>0</th>\n",
       "      <td>TMPHM87RBQD</td>\n",
       "      <td>1000</td>\n",
       "      <td>51</td>\n",
       "      <td>utf-8</td>\n",
       "      <td>04May2017:19:38:22</td>\n",
       "      <td>04May2017:19:38:22</td>\n",
       "      <td>UTF8</td>\n",
       "      <td>1.809546e+09</td>\n",
       "      <td>1.809546e+09</td>\n",
       "      <td>0</td>\n",
       "      <td>0</td>\n",
       "      <td>0</td>\n",
       "      <td></td>\n",
       "      <td></td>\n",
       "      <td>0</td>\n",
       "      <td>lidong</td>\n",
       "      <td></td>\n",
       "    </tr>\n",
       "  </tbody>\n",
       "</table>\n",
       "</div>\n",
       "</div>\n",
       "<div class=\"cas-output-area\"></div>\n",
       "<p class=\"cas-results-performance\"><small><span class=\"cas-elapsed\">elapsed 0.00238s</span> &#183; <span class=\"cas-user\">user 0.003s</span> &#183; <span class=\"cas-memory\">mem 0.249MB</span></small></p>"
      ],
      "text/plain": [
       "[TableInfo]\n",
       "\n",
       "           Name  Rows  Columns Encoding CreateTimeFormatted  \\\n",
       " 0  TMPHM87RBQD  1000       51    utf-8  04May2017:19:38:22   \n",
       " \n",
       "      ModTimeFormatted JavaCharSet    CreateTime       ModTime  Global  \\\n",
       " 0  04May2017:19:38:22        UTF8  1.809546e+09  1.809546e+09       0   \n",
       " \n",
       "    Repeated  View SourceName SourceCaslib  Compressed Creator Modifier  \n",
       " 0         0     0                                   0  lidong           \n",
       "\n",
       "+ Elapsed: 0.00238s, user: 0.003s, mem: 0.249mb"
      ]
     },
     "execution_count": 5,
     "metadata": {},
     "output_type": "execute_result"
    }
   ],
   "source": [
    "casdata.tableinfo()"
   ]
  },
  {
   "cell_type": "markdown",
   "metadata": {},
   "source": [
    "### Estimator"
   ]
  },
  {
   "cell_type": "markdown",
   "metadata": {},
   "source": [
    "Import regression models: decision tree, random forest and gradient boosting tree"
   ]
  },
  {
   "cell_type": "code",
   "execution_count": 6,
   "metadata": {
    "collapsed": false
   },
   "outputs": [],
   "source": [
    "from pipefitter.estimator import DecisionTree, DecisionForest, GBTree"
   ]
  },
  {
   "cell_type": "markdown",
   "metadata": {},
   "source": [
    "Create a DecisionTree object. This object is the high-level object that has no knowledge of CAS or SAS."
   ]
  },
  {
   "cell_type": "code",
   "execution_count": 7,
   "metadata": {
    "collapsed": true
   },
   "outputs": [],
   "source": [
    "params = dict(target='label', \n",
    "              inputs=[str(i) for i in range(50)])"
   ]
  },
  {
   "cell_type": "code",
   "execution_count": 8,
   "metadata": {
    "collapsed": false
   },
   "outputs": [
    {
     "data": {
      "text/plain": [
       "DecisionTree(alpha=0.0, cf_level=0.25, criterion=None, inputs=['0', '1', '2', '3', '4', '5', '6', '7', '8', '9', '10', '11', '12', '13', '14', '15', '16', '17', '18', '19', '20', '21', '22', '23', '24', '25', '26', '27', '28', '29', '30', '31', '32', '33', '34', '35', '36', '37', '38', '39', '40', '41', '42', '43', '44', '45', '46', '47', '48', '49'], leaf_size=5, max_branches=2, max_depth=6, n_bins=20, nominals=[], prune=False, target='label', var_importance=False)"
      ]
     },
     "execution_count": 8,
     "metadata": {},
     "output_type": "execute_result"
    }
   ],
   "source": [
    "dtree = DecisionTree(max_depth=6, **params)\n",
    "dtree"
   ]
  },
  {
   "cell_type": "markdown",
   "metadata": {},
   "source": [
    "#### Decision Tree Fit and Score of CAS Table\n",
    "\n",
    "Using the `DecisionTree` instance, we'll first run the `fit` method on the data set.  This will return a model object."
   ]
  },
  {
   "cell_type": "code",
   "execution_count": 9,
   "metadata": {
    "collapsed": false
   },
   "outputs": [
    {
     "data": {
      "text/plain": [
       "DecisionTreeModel(alpha=0.0, cf_level=0.25, criterion=None, inputs=['0', '1', '2', '3', '4', '5', '6', '7', '8', '9', '10', '11', '12', '13', '14', '15', '16', '17', '18', '19', '20', '21', '22', '23', '24', '25', '26', '27', '28', '29', '30', '31', '32', '33', '34', '35', '36', '37', '38', '39', '40', '41', '42', '43', '44', '45', '46', '47', '48', '49'], leaf_size=5, max_branches=2, max_depth=6, n_bins=20, nominals=[], prune=False, target='label', var_importance=False)"
      ]
     },
     "execution_count": 9,
     "metadata": {},
     "output_type": "execute_result"
    }
   ],
   "source": [
    "model = dtree.fit(casdata)\n",
    "model"
   ]
  },
  {
   "cell_type": "markdown",
   "metadata": {},
   "source": [
    "The ``score`` method can then be called on the resulting model object"
   ]
  },
  {
   "cell_type": "code",
   "execution_count": 10,
   "metadata": {
    "collapsed": false
   },
   "outputs": [
    {
     "data": {
      "text/plain": [
       "Target                                        label\n",
       "Level                                      INTERVAL\n",
       "Var                                   _DT_PredMean_\n",
       "NBins                                           100\n",
       "NObsUsed                                       1000\n",
       "TargetCount                                    1000\n",
       "TargetMiss                                        0\n",
       "PredCount                                      1000\n",
       "PredMiss                                          0\n",
       "AverageAbsoluteError                        5.45961\n",
       "AverageSquaredError                         47.7999\n",
       "AverageSquaredLogarithmicError             0.655048\n",
       "RootAverageAbsoluteError                    2.33658\n",
       "RootAverageSquaredError                     6.91375\n",
       "RootAverageSquaredLogarithmicError          0.80935\n",
       "dtype: object"
      ]
     },
     "execution_count": 10,
     "metadata": {},
     "output_type": "execute_result"
    }
   ],
   "source": [
    "score = model.score(casdata)\n",
    "score"
   ]
  },
  {
   "cell_type": "markdown",
   "metadata": {
    "collapsed": true
   },
   "source": [
    "### HyperParameter Tuning"
   ]
  },
  {
   "cell_type": "markdown",
   "metadata": {},
   "source": [
    "The hyper-parameter tuning classes allow you to test multiple sets of parameters across\n",
    "a set of estimators."
   ]
  },
  {
   "cell_type": "code",
   "execution_count": 11,
   "metadata": {
    "collapsed": true
   },
   "outputs": [],
   "source": [
    "from pipefitter.model_selection import HyperParameterTuning"
   ]
  },
  {
   "cell_type": "markdown",
   "metadata": {},
   "source": [
    "define parameter space"
   ]
  },
  {
   "cell_type": "code",
   "execution_count": 12,
   "metadata": {
    "collapsed": true
   },
   "outputs": [],
   "source": [
    "param_grid = dict(\n",
    "    max_depth=[6, 10],\n",
    "    leaf_size=[3, 5],\n",
    ")"
   ]
  },
  {
   "cell_type": "code",
   "execution_count": 13,
   "metadata": {
    "collapsed": true
   },
   "outputs": [],
   "source": [
    "hpt = HyperParameterTuning(\n",
    "          estimator=DecisionTree(target='label', \n",
    "              inputs=[str(i) for i in range(50)]),\n",
    "          param_grid=param_grid, \n",
    "          cv=3)"
   ]
  },
  {
   "cell_type": "code",
   "execution_count": 14,
   "metadata": {
    "collapsed": false
   },
   "outputs": [
    {
     "data": {
      "text/html": [
       "<div>\n",
       "<table border=\"1\" class=\"dataframe\">\n",
       "  <thead>\n",
       "    <tr style=\"text-align: right;\">\n",
       "      <th></th>\n",
       "      <th>MeanScore</th>\n",
       "      <th>ScoreStd</th>\n",
       "      <th>Parameters</th>\n",
       "      <th>FoldScores</th>\n",
       "      <th>MeanClockTime</th>\n",
       "    </tr>\n",
       "  </thead>\n",
       "  <tbody>\n",
       "    <tr>\n",
       "      <th>0</th>\n",
       "      <td>62.113374</td>\n",
       "      <td>2.587900</td>\n",
       "      <td>{'max_depth': 6, 'leaf_size': 5}</td>\n",
       "      <td>[65.75939818905599, 60.24532944862384, 60.2942...</td>\n",
       "      <td>0.000566</td>\n",
       "    </tr>\n",
       "    <tr>\n",
       "      <th>1</th>\n",
       "      <td>63.896503</td>\n",
       "      <td>4.274422</td>\n",
       "      <td>{'max_depth': 6, 'leaf_size': 3}</td>\n",
       "      <td>[69.83758939242621, 59.9135774358081, 61.98532...</td>\n",
       "      <td>0.000577</td>\n",
       "    </tr>\n",
       "    <tr>\n",
       "      <th>2</th>\n",
       "      <td>67.476578</td>\n",
       "      <td>4.470002</td>\n",
       "      <td>{'max_depth': 10, 'leaf_size': 5}</td>\n",
       "      <td>[73.77481176868052, 64.00831623139457, 64.6048...</td>\n",
       "      <td>0.000593</td>\n",
       "    </tr>\n",
       "    <tr>\n",
       "      <th>3</th>\n",
       "      <td>74.464213</td>\n",
       "      <td>7.394592</td>\n",
       "      <td>{'max_depth': 10, 'leaf_size': 3}</td>\n",
       "      <td>[84.58060851524692, 67.0219802969355, 71.95020...</td>\n",
       "      <td>0.000720</td>\n",
       "    </tr>\n",
       "  </tbody>\n",
       "</table>\n",
       "</div>"
      ],
      "text/plain": [
       "   MeanScore  ScoreStd                         Parameters  \\\n",
       "0  62.113374  2.587900   {'max_depth': 6, 'leaf_size': 5}   \n",
       "1  63.896503  4.274422   {'max_depth': 6, 'leaf_size': 3}   \n",
       "2  67.476578  4.470002  {'max_depth': 10, 'leaf_size': 5}   \n",
       "3  74.464213  7.394592  {'max_depth': 10, 'leaf_size': 3}   \n",
       "\n",
       "                                          FoldScores  MeanClockTime  \n",
       "0  [65.75939818905599, 60.24532944862384, 60.2942...       0.000566  \n",
       "1  [69.83758939242621, 59.9135774358081, 61.98532...       0.000577  \n",
       "2  [73.77481176868052, 64.00831623139457, 64.6048...       0.000593  \n",
       "3  [84.58060851524692, 67.0219802969355, 71.95020...       0.000720  "
      ]
     },
     "execution_count": 14,
     "metadata": {},
     "output_type": "execute_result"
    }
   ],
   "source": [
    "hpt.gridsearch(casdata)"
   ]
  },
  {
   "cell_type": "code",
   "execution_count": null,
   "metadata": {
    "collapsed": true
   },
   "outputs": [],
   "source": []
  }
 ],
 "metadata": {
  "kernelspec": {
   "display_name": "Python 3",
   "language": "python",
   "name": "python3"
  },
  "language_info": {
   "codemirror_mode": {
    "name": "ipython",
    "version": 3
   },
   "file_extension": ".py",
   "mimetype": "text/x-python",
   "name": "python",
   "nbconvert_exporter": "python",
   "pygments_lexer": "ipython3",
   "version": "3.5.2"
  }
 },
 "nbformat": 4,
 "nbformat_minor": 0
}
